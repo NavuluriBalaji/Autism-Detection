{
  "cells": [
    {
      "cell_type": "markdown",
      "id": "of4IcI3iuG9p",
      "metadata": {
        "id": "of4IcI3iuG9p"
      },
      "source": [
        "# Using Machine Learning in Autism Diagnostics\n"
      ]
    },
    {
      "cell_type": "markdown",
      "id": "86596238",
      "metadata": {
        "id": "86596238"
      },
      "source": [
        "The <a href=\"https://archive.ics.uci.edu/ml/datasets/Autism+Screening+Adult\">dataset</a> at hand is comprehensive, encompassing screening test details for 704 adults who have been diagnosed with Autistic Spectrum Disorder (ASD). It comprises 21 attributes, providing demographic information about the test takers, along with responses to 10 questions from the screening tests. The diagnosis status of ASD for each individual is denoted in the \"Class/ASD\" variable."
      ]
    },
    {
      "cell_type": "code",
      "execution_count": 1,
      "id": "f04841a5",
      "metadata": {
        "id": "f04841a5"
      },
      "outputs": [],
      "source": [
        "import warnings\n",
        "warnings.filterwarnings('ignore')"
      ]
    },
    {
      "cell_type": "code",
      "execution_count": 1,
      "id": "613fb8e2",
      "metadata": {
        "id": "613fb8e2",
        "scrolled": true
      },
      "outputs": [],
      "source": [
        "    import numpy as np\n",
        "    import pandas as pd\n",
        "    pd.set_option(\"display.max_columns\", 100)\n",
        "    import matplotlib.pyplot as plt\n",
        "    import seaborn as sns\n",
        "    %matplotlib inline\n",
        "\n",
        "    import scipy\n",
        "    from scipy.io.arff import loadarff as load_arff\n",
        "    import collections\n",
        "    from collections import Counter\n",
        "\n",
        "    import sklearn\n",
        "    import random\n",
        "    import pickle\n",
        "    import os\n",
        "    from sklearn.model_selection import train_test_split\n",
        "    import time\n",
        "    from sklearn.metrics import classification_report, accuracy_score\n",
        "    from sklearn import metrics\n",
        "    from sklearn.metrics import confusion_matrix\n",
        "\n",
        "    random.seed(0)\n",
        "    np.random.seed(0)"
      ]
    },
    {
      "cell_type": "markdown",
      "id": "XYsa6gQVxYSp",
      "metadata": {
        "id": "XYsa6gQVxYSp"
      },
      "source": [
        "# Data Preprocessing"
      ]
    },
    {
      "cell_type": "code",
      "execution_count": 3,
      "id": "b0c33605",
      "metadata": {
        "colab": {
          "base_uri": "https://localhost:8080/",
          "height": 309
        },
        "id": "b0c33605",
        "outputId": "b66e2007-9ccf-4f3a-ed96-6fe401388ca5"
      },
      "outputs": [
        {
          "data": {
            "text/html": [
              "<div>\n",
              "<style scoped>\n",
              "    .dataframe tbody tr th:only-of-type {\n",
              "        vertical-align: middle;\n",
              "    }\n",
              "\n",
              "    .dataframe tbody tr th {\n",
              "        vertical-align: top;\n",
              "    }\n",
              "\n",
              "    .dataframe thead th {\n",
              "        text-align: right;\n",
              "    }\n",
              "</style>\n",
              "<table border=\"1\" class=\"dataframe\">\n",
              "  <thead>\n",
              "    <tr style=\"text-align: right;\">\n",
              "      <th></th>\n",
              "      <th>A1_Score</th>\n",
              "      <th>A2_Score</th>\n",
              "      <th>A3_Score</th>\n",
              "      <th>A4_Score</th>\n",
              "      <th>A5_Score</th>\n",
              "      <th>A6_Score</th>\n",
              "      <th>A7_Score</th>\n",
              "      <th>A8_Score</th>\n",
              "      <th>A9_Score</th>\n",
              "      <th>A10_Score</th>\n",
              "      <th>age</th>\n",
              "      <th>gender</th>\n",
              "      <th>ethnicity</th>\n",
              "      <th>jundice</th>\n",
              "      <th>austim</th>\n",
              "      <th>contry_of_res</th>\n",
              "      <th>used_app_before</th>\n",
              "      <th>result</th>\n",
              "      <th>age_desc</th>\n",
              "      <th>relation</th>\n",
              "      <th>Class/ASD</th>\n",
              "    </tr>\n",
              "  </thead>\n",
              "  <tbody>\n",
              "    <tr>\n",
              "      <th>0</th>\n",
              "      <td>b'1'</td>\n",
              "      <td>b'1'</td>\n",
              "      <td>b'1'</td>\n",
              "      <td>b'1'</td>\n",
              "      <td>b'0'</td>\n",
              "      <td>b'0'</td>\n",
              "      <td>b'1'</td>\n",
              "      <td>b'1'</td>\n",
              "      <td>b'0'</td>\n",
              "      <td>b'0'</td>\n",
              "      <td>26.0</td>\n",
              "      <td>b'f'</td>\n",
              "      <td>b'White-European'</td>\n",
              "      <td>b'no'</td>\n",
              "      <td>b'no'</td>\n",
              "      <td>b'United States'</td>\n",
              "      <td>b'no'</td>\n",
              "      <td>6.0</td>\n",
              "      <td>b'18 and more'</td>\n",
              "      <td>b'Self'</td>\n",
              "      <td>b'NO'</td>\n",
              "    </tr>\n",
              "    <tr>\n",
              "      <th>1</th>\n",
              "      <td>b'1'</td>\n",
              "      <td>b'1'</td>\n",
              "      <td>b'0'</td>\n",
              "      <td>b'1'</td>\n",
              "      <td>b'0'</td>\n",
              "      <td>b'0'</td>\n",
              "      <td>b'0'</td>\n",
              "      <td>b'1'</td>\n",
              "      <td>b'0'</td>\n",
              "      <td>b'1'</td>\n",
              "      <td>24.0</td>\n",
              "      <td>b'm'</td>\n",
              "      <td>b'Latino'</td>\n",
              "      <td>b'no'</td>\n",
              "      <td>b'yes'</td>\n",
              "      <td>b'Brazil'</td>\n",
              "      <td>b'no'</td>\n",
              "      <td>5.0</td>\n",
              "      <td>b'18 and more'</td>\n",
              "      <td>b'Self'</td>\n",
              "      <td>b'NO'</td>\n",
              "    </tr>\n",
              "    <tr>\n",
              "      <th>2</th>\n",
              "      <td>b'1'</td>\n",
              "      <td>b'1'</td>\n",
              "      <td>b'0'</td>\n",
              "      <td>b'1'</td>\n",
              "      <td>b'1'</td>\n",
              "      <td>b'0'</td>\n",
              "      <td>b'1'</td>\n",
              "      <td>b'1'</td>\n",
              "      <td>b'1'</td>\n",
              "      <td>b'1'</td>\n",
              "      <td>27.0</td>\n",
              "      <td>b'm'</td>\n",
              "      <td>b'Latino'</td>\n",
              "      <td>b'yes'</td>\n",
              "      <td>b'yes'</td>\n",
              "      <td>b'Spain'</td>\n",
              "      <td>b'no'</td>\n",
              "      <td>8.0</td>\n",
              "      <td>b'18 and more'</td>\n",
              "      <td>b'Parent'</td>\n",
              "      <td>b'YES'</td>\n",
              "    </tr>\n",
              "    <tr>\n",
              "      <th>3</th>\n",
              "      <td>b'1'</td>\n",
              "      <td>b'1'</td>\n",
              "      <td>b'0'</td>\n",
              "      <td>b'1'</td>\n",
              "      <td>b'0'</td>\n",
              "      <td>b'0'</td>\n",
              "      <td>b'1'</td>\n",
              "      <td>b'1'</td>\n",
              "      <td>b'0'</td>\n",
              "      <td>b'1'</td>\n",
              "      <td>35.0</td>\n",
              "      <td>b'f'</td>\n",
              "      <td>b'White-European'</td>\n",
              "      <td>b'no'</td>\n",
              "      <td>b'yes'</td>\n",
              "      <td>b'United States'</td>\n",
              "      <td>b'no'</td>\n",
              "      <td>6.0</td>\n",
              "      <td>b'18 and more'</td>\n",
              "      <td>b'Self'</td>\n",
              "      <td>b'NO'</td>\n",
              "    </tr>\n",
              "    <tr>\n",
              "      <th>4</th>\n",
              "      <td>b'1'</td>\n",
              "      <td>b'0'</td>\n",
              "      <td>b'0'</td>\n",
              "      <td>b'0'</td>\n",
              "      <td>b'0'</td>\n",
              "      <td>b'0'</td>\n",
              "      <td>b'0'</td>\n",
              "      <td>b'1'</td>\n",
              "      <td>b'0'</td>\n",
              "      <td>b'0'</td>\n",
              "      <td>40.0</td>\n",
              "      <td>b'f'</td>\n",
              "      <td>b'?'</td>\n",
              "      <td>b'no'</td>\n",
              "      <td>b'no'</td>\n",
              "      <td>b'Egypt'</td>\n",
              "      <td>b'no'</td>\n",
              "      <td>2.0</td>\n",
              "      <td>b'18 and more'</td>\n",
              "      <td>b'?'</td>\n",
              "      <td>b'NO'</td>\n",
              "    </tr>\n",
              "  </tbody>\n",
              "</table>\n",
              "</div>"
            ],
            "text/plain": [
              "  A1_Score A2_Score A3_Score A4_Score A5_Score A6_Score A7_Score A8_Score  \\\n",
              "0     b'1'     b'1'     b'1'     b'1'     b'0'     b'0'     b'1'     b'1'   \n",
              "1     b'1'     b'1'     b'0'     b'1'     b'0'     b'0'     b'0'     b'1'   \n",
              "2     b'1'     b'1'     b'0'     b'1'     b'1'     b'0'     b'1'     b'1'   \n",
              "3     b'1'     b'1'     b'0'     b'1'     b'0'     b'0'     b'1'     b'1'   \n",
              "4     b'1'     b'0'     b'0'     b'0'     b'0'     b'0'     b'0'     b'1'   \n",
              "\n",
              "  A9_Score A10_Score   age gender          ethnicity jundice  austim  \\\n",
              "0     b'0'      b'0'  26.0   b'f'  b'White-European'   b'no'   b'no'   \n",
              "1     b'0'      b'1'  24.0   b'm'          b'Latino'   b'no'  b'yes'   \n",
              "2     b'1'      b'1'  27.0   b'm'          b'Latino'  b'yes'  b'yes'   \n",
              "3     b'0'      b'1'  35.0   b'f'  b'White-European'   b'no'  b'yes'   \n",
              "4     b'0'      b'0'  40.0   b'f'               b'?'   b'no'   b'no'   \n",
              "\n",
              "      contry_of_res used_app_before  result        age_desc   relation  \\\n",
              "0  b'United States'           b'no'     6.0  b'18 and more'    b'Self'   \n",
              "1         b'Brazil'           b'no'     5.0  b'18 and more'    b'Self'   \n",
              "2          b'Spain'           b'no'     8.0  b'18 and more'  b'Parent'   \n",
              "3  b'United States'           b'no'     6.0  b'18 and more'    b'Self'   \n",
              "4          b'Egypt'           b'no'     2.0  b'18 and more'       b'?'   \n",
              "\n",
              "  Class/ASD  \n",
              "0     b'NO'  \n",
              "1     b'NO'  \n",
              "2    b'YES'  \n",
              "3     b'NO'  \n",
              "4     b'NO'  "
            ]
          },
          "execution_count": 3,
          "metadata": {},
          "output_type": "execute_result"
        }
      ],
      "source": [
        "given_data = load_arff('./Autism-Adult-Data.arff')\n",
        "\n",
        "df_data = pd.DataFrame(given_data[0])\n",
        "df_data.head()"
      ]
    },
    {
      "cell_type": "code",
      "execution_count": 4,
      "id": "8d219e4e",
      "metadata": {
        "colab": {
          "base_uri": "https://localhost:8080/"
        },
        "id": "8d219e4e",
        "outputId": "ece94775-9afd-48d0-b264-405884f3b300"
      },
      "outputs": [
        {
          "name": "stdout",
          "output_type": "stream",
          "text": [
            "List of Variables: ['A1_Score', 'A2_Score', 'A3_Score', 'A4_Score', 'A5_Score', 'A6_Score', 'A7_Score', 'A8_Score', 'A9_Score', 'A10_Score', 'age', 'gender', 'ethnicity', 'jundice', 'austim', 'contry_of_res', 'used_app_before', 'result', 'age_desc', 'relation', 'Class/ASD']\n"
          ]
        }
      ],
      "source": [
        "df_meta = list(given_data[1])\n",
        "print(\"List of Variables:\", df_meta)"
      ]
    },
    {
      "cell_type": "code",
      "execution_count": 5,
      "id": "3a596eaf",
      "metadata": {
        "colab": {
          "base_uri": "https://localhost:8080/"
        },
        "id": "3a596eaf",
        "outputId": "c2b40e12-efff-47f6-c6ea-53142aa9b2ba"
      },
      "outputs": [
        {
          "name": "stdout",
          "output_type": "stream",
          "text": [
            "<class 'pandas.core.frame.DataFrame'>\n",
            "RangeIndex: 704 entries, 0 to 703\n",
            "Data columns (total 21 columns):\n",
            " #   Column           Non-Null Count  Dtype  \n",
            "---  ------           --------------  -----  \n",
            " 0   A1_Score         704 non-null    object \n",
            " 1   A2_Score         704 non-null    object \n",
            " 2   A3_Score         704 non-null    object \n",
            " 3   A4_Score         704 non-null    object \n",
            " 4   A5_Score         704 non-null    object \n",
            " 5   A6_Score         704 non-null    object \n",
            " 6   A7_Score         704 non-null    object \n",
            " 7   A8_Score         704 non-null    object \n",
            " 8   A9_Score         704 non-null    object \n",
            " 9   A10_Score        704 non-null    object \n",
            " 10  age              702 non-null    float64\n",
            " 11  gender           704 non-null    object \n",
            " 12  ethnicity        704 non-null    object \n",
            " 13  jundice          704 non-null    object \n",
            " 14  austim           704 non-null    object \n",
            " 15  contry_of_res    704 non-null    object \n",
            " 16  used_app_before  704 non-null    object \n",
            " 17  result           704 non-null    float64\n",
            " 18  age_desc         704 non-null    object \n",
            " 19  relation         704 non-null    object \n",
            " 20  Class/ASD        704 non-null    object \n",
            "dtypes: float64(2), object(19)\n",
            "memory usage: 115.6+ KB\n"
          ]
        }
      ],
      "source": [
        "df_data.info()"
      ]
    },
    {
      "cell_type": "code",
      "execution_count": 6,
      "id": "9c847208",
      "metadata": {
        "colab": {
          "base_uri": "https://localhost:8080/",
          "height": 326
        },
        "id": "9c847208",
        "outputId": "57e5a3fd-3b3c-4fa8-9c8e-c03a33347011"
      },
      "outputs": [
        {
          "name": "stdout",
          "output_type": "stream",
          "text": [
            "Object Datatype Features: ['A1_Score', 'A2_Score', 'A3_Score', 'A4_Score', 'A5_Score', 'A6_Score', 'A7_Score', 'A8_Score', 'A9_Score', 'A10_Score', 'gender', 'ethnicity', 'jundice', 'austim', 'contry_of_res', 'used_app_before', 'age_desc', 'relation', 'Class/ASD']\n"
          ]
        },
        {
          "data": {
            "text/html": [
              "<div>\n",
              "<style scoped>\n",
              "    .dataframe tbody tr th:only-of-type {\n",
              "        vertical-align: middle;\n",
              "    }\n",
              "\n",
              "    .dataframe tbody tr th {\n",
              "        vertical-align: top;\n",
              "    }\n",
              "\n",
              "    .dataframe thead th {\n",
              "        text-align: right;\n",
              "    }\n",
              "</style>\n",
              "<table border=\"1\" class=\"dataframe\">\n",
              "  <thead>\n",
              "    <tr style=\"text-align: right;\">\n",
              "      <th></th>\n",
              "      <th>A1_Score</th>\n",
              "      <th>A2_Score</th>\n",
              "      <th>A3_Score</th>\n",
              "      <th>A4_Score</th>\n",
              "      <th>A5_Score</th>\n",
              "      <th>A6_Score</th>\n",
              "      <th>A7_Score</th>\n",
              "      <th>A8_Score</th>\n",
              "      <th>A9_Score</th>\n",
              "      <th>A10_Score</th>\n",
              "      <th>gender</th>\n",
              "      <th>ethnicity</th>\n",
              "      <th>jundice</th>\n",
              "      <th>austim</th>\n",
              "      <th>contry_of_res</th>\n",
              "      <th>used_app_before</th>\n",
              "      <th>age_desc</th>\n",
              "      <th>relation</th>\n",
              "      <th>Class/ASD</th>\n",
              "    </tr>\n",
              "  </thead>\n",
              "  <tbody>\n",
              "    <tr>\n",
              "      <th>0</th>\n",
              "      <td>b'1'</td>\n",
              "      <td>b'1'</td>\n",
              "      <td>b'1'</td>\n",
              "      <td>b'1'</td>\n",
              "      <td>b'0'</td>\n",
              "      <td>b'0'</td>\n",
              "      <td>b'1'</td>\n",
              "      <td>b'1'</td>\n",
              "      <td>b'0'</td>\n",
              "      <td>b'0'</td>\n",
              "      <td>b'f'</td>\n",
              "      <td>b'White-European'</td>\n",
              "      <td>b'no'</td>\n",
              "      <td>b'no'</td>\n",
              "      <td>b'United States'</td>\n",
              "      <td>b'no'</td>\n",
              "      <td>b'18 and more'</td>\n",
              "      <td>b'Self'</td>\n",
              "      <td>b'NO'</td>\n",
              "    </tr>\n",
              "    <tr>\n",
              "      <th>1</th>\n",
              "      <td>b'1'</td>\n",
              "      <td>b'1'</td>\n",
              "      <td>b'0'</td>\n",
              "      <td>b'1'</td>\n",
              "      <td>b'0'</td>\n",
              "      <td>b'0'</td>\n",
              "      <td>b'0'</td>\n",
              "      <td>b'1'</td>\n",
              "      <td>b'0'</td>\n",
              "      <td>b'1'</td>\n",
              "      <td>b'm'</td>\n",
              "      <td>b'Latino'</td>\n",
              "      <td>b'no'</td>\n",
              "      <td>b'yes'</td>\n",
              "      <td>b'Brazil'</td>\n",
              "      <td>b'no'</td>\n",
              "      <td>b'18 and more'</td>\n",
              "      <td>b'Self'</td>\n",
              "      <td>b'NO'</td>\n",
              "    </tr>\n",
              "    <tr>\n",
              "      <th>2</th>\n",
              "      <td>b'1'</td>\n",
              "      <td>b'1'</td>\n",
              "      <td>b'0'</td>\n",
              "      <td>b'1'</td>\n",
              "      <td>b'1'</td>\n",
              "      <td>b'0'</td>\n",
              "      <td>b'1'</td>\n",
              "      <td>b'1'</td>\n",
              "      <td>b'1'</td>\n",
              "      <td>b'1'</td>\n",
              "      <td>b'm'</td>\n",
              "      <td>b'Latino'</td>\n",
              "      <td>b'yes'</td>\n",
              "      <td>b'yes'</td>\n",
              "      <td>b'Spain'</td>\n",
              "      <td>b'no'</td>\n",
              "      <td>b'18 and more'</td>\n",
              "      <td>b'Parent'</td>\n",
              "      <td>b'YES'</td>\n",
              "    </tr>\n",
              "    <tr>\n",
              "      <th>3</th>\n",
              "      <td>b'1'</td>\n",
              "      <td>b'1'</td>\n",
              "      <td>b'0'</td>\n",
              "      <td>b'1'</td>\n",
              "      <td>b'0'</td>\n",
              "      <td>b'0'</td>\n",
              "      <td>b'1'</td>\n",
              "      <td>b'1'</td>\n",
              "      <td>b'0'</td>\n",
              "      <td>b'1'</td>\n",
              "      <td>b'f'</td>\n",
              "      <td>b'White-European'</td>\n",
              "      <td>b'no'</td>\n",
              "      <td>b'yes'</td>\n",
              "      <td>b'United States'</td>\n",
              "      <td>b'no'</td>\n",
              "      <td>b'18 and more'</td>\n",
              "      <td>b'Self'</td>\n",
              "      <td>b'NO'</td>\n",
              "    </tr>\n",
              "    <tr>\n",
              "      <th>4</th>\n",
              "      <td>b'1'</td>\n",
              "      <td>b'0'</td>\n",
              "      <td>b'0'</td>\n",
              "      <td>b'0'</td>\n",
              "      <td>b'0'</td>\n",
              "      <td>b'0'</td>\n",
              "      <td>b'0'</td>\n",
              "      <td>b'1'</td>\n",
              "      <td>b'0'</td>\n",
              "      <td>b'0'</td>\n",
              "      <td>b'f'</td>\n",
              "      <td>b'?'</td>\n",
              "      <td>b'no'</td>\n",
              "      <td>b'no'</td>\n",
              "      <td>b'Egypt'</td>\n",
              "      <td>b'no'</td>\n",
              "      <td>b'18 and more'</td>\n",
              "      <td>b'?'</td>\n",
              "      <td>b'NO'</td>\n",
              "    </tr>\n",
              "  </tbody>\n",
              "</table>\n",
              "</div>"
            ],
            "text/plain": [
              "  A1_Score A2_Score A3_Score A4_Score A5_Score A6_Score A7_Score A8_Score  \\\n",
              "0     b'1'     b'1'     b'1'     b'1'     b'0'     b'0'     b'1'     b'1'   \n",
              "1     b'1'     b'1'     b'0'     b'1'     b'0'     b'0'     b'0'     b'1'   \n",
              "2     b'1'     b'1'     b'0'     b'1'     b'1'     b'0'     b'1'     b'1'   \n",
              "3     b'1'     b'1'     b'0'     b'1'     b'0'     b'0'     b'1'     b'1'   \n",
              "4     b'1'     b'0'     b'0'     b'0'     b'0'     b'0'     b'0'     b'1'   \n",
              "\n",
              "  A9_Score A10_Score gender          ethnicity jundice  austim  \\\n",
              "0     b'0'      b'0'   b'f'  b'White-European'   b'no'   b'no'   \n",
              "1     b'0'      b'1'   b'm'          b'Latino'   b'no'  b'yes'   \n",
              "2     b'1'      b'1'   b'm'          b'Latino'  b'yes'  b'yes'   \n",
              "3     b'0'      b'1'   b'f'  b'White-European'   b'no'  b'yes'   \n",
              "4     b'0'      b'0'   b'f'               b'?'   b'no'   b'no'   \n",
              "\n",
              "      contry_of_res used_app_before        age_desc   relation Class/ASD  \n",
              "0  b'United States'           b'no'  b'18 and more'    b'Self'     b'NO'  \n",
              "1         b'Brazil'           b'no'  b'18 and more'    b'Self'     b'NO'  \n",
              "2          b'Spain'           b'no'  b'18 and more'  b'Parent'    b'YES'  \n",
              "3  b'United States'           b'no'  b'18 and more'    b'Self'     b'NO'  \n",
              "4          b'Egypt'           b'no'  b'18 and more'       b'?'     b'NO'  "
            ]
          },
          "execution_count": 6,
          "metadata": {},
          "output_type": "execute_result"
        }
      ],
      "source": [
        "object_dtype_variables = df_data.select_dtypes([np.object_]).columns.to_list()\n",
        "print(\"Object Datatype Features:\", object_dtype_variables)\n",
        "\n",
        "df_data.select_dtypes([np.object_]).head()"
      ]
    },
    {
      "cell_type": "code",
      "execution_count": 7,
      "id": "fa363b9b",
      "metadata": {
        "colab": {
          "base_uri": "https://localhost:8080/",
          "height": 309
        },
        "id": "fa363b9b",
        "outputId": "aaac10dd-9491-43f4-c66c-8b4ed4a8a8cf"
      },
      "outputs": [
        {
          "data": {
            "text/html": [
              "<div>\n",
              "<style scoped>\n",
              "    .dataframe tbody tr th:only-of-type {\n",
              "        vertical-align: middle;\n",
              "    }\n",
              "\n",
              "    .dataframe tbody tr th {\n",
              "        vertical-align: top;\n",
              "    }\n",
              "\n",
              "    .dataframe thead th {\n",
              "        text-align: right;\n",
              "    }\n",
              "</style>\n",
              "<table border=\"1\" class=\"dataframe\">\n",
              "  <thead>\n",
              "    <tr style=\"text-align: right;\">\n",
              "      <th></th>\n",
              "      <th>A1_Score</th>\n",
              "      <th>A2_Score</th>\n",
              "      <th>A3_Score</th>\n",
              "      <th>A4_Score</th>\n",
              "      <th>A5_Score</th>\n",
              "      <th>A6_Score</th>\n",
              "      <th>A7_Score</th>\n",
              "      <th>A8_Score</th>\n",
              "      <th>A9_Score</th>\n",
              "      <th>A10_Score</th>\n",
              "      <th>age</th>\n",
              "      <th>gender</th>\n",
              "      <th>ethnicity</th>\n",
              "      <th>jundice</th>\n",
              "      <th>austim</th>\n",
              "      <th>contry_of_res</th>\n",
              "      <th>used_app_before</th>\n",
              "      <th>result</th>\n",
              "      <th>age_desc</th>\n",
              "      <th>relation</th>\n",
              "      <th>Class/ASD</th>\n",
              "    </tr>\n",
              "  </thead>\n",
              "  <tbody>\n",
              "    <tr>\n",
              "      <th>0</th>\n",
              "      <td>1</td>\n",
              "      <td>1</td>\n",
              "      <td>1</td>\n",
              "      <td>1</td>\n",
              "      <td>0</td>\n",
              "      <td>0</td>\n",
              "      <td>1</td>\n",
              "      <td>1</td>\n",
              "      <td>0</td>\n",
              "      <td>0</td>\n",
              "      <td>26.0</td>\n",
              "      <td>f</td>\n",
              "      <td>White-European</td>\n",
              "      <td>no</td>\n",
              "      <td>no</td>\n",
              "      <td>United States</td>\n",
              "      <td>no</td>\n",
              "      <td>6.0</td>\n",
              "      <td>18 and more</td>\n",
              "      <td>Self</td>\n",
              "      <td>NO</td>\n",
              "    </tr>\n",
              "    <tr>\n",
              "      <th>1</th>\n",
              "      <td>1</td>\n",
              "      <td>1</td>\n",
              "      <td>0</td>\n",
              "      <td>1</td>\n",
              "      <td>0</td>\n",
              "      <td>0</td>\n",
              "      <td>0</td>\n",
              "      <td>1</td>\n",
              "      <td>0</td>\n",
              "      <td>1</td>\n",
              "      <td>24.0</td>\n",
              "      <td>m</td>\n",
              "      <td>Latino</td>\n",
              "      <td>no</td>\n",
              "      <td>yes</td>\n",
              "      <td>Brazil</td>\n",
              "      <td>no</td>\n",
              "      <td>5.0</td>\n",
              "      <td>18 and more</td>\n",
              "      <td>Self</td>\n",
              "      <td>NO</td>\n",
              "    </tr>\n",
              "    <tr>\n",
              "      <th>2</th>\n",
              "      <td>1</td>\n",
              "      <td>1</td>\n",
              "      <td>0</td>\n",
              "      <td>1</td>\n",
              "      <td>1</td>\n",
              "      <td>0</td>\n",
              "      <td>1</td>\n",
              "      <td>1</td>\n",
              "      <td>1</td>\n",
              "      <td>1</td>\n",
              "      <td>27.0</td>\n",
              "      <td>m</td>\n",
              "      <td>Latino</td>\n",
              "      <td>yes</td>\n",
              "      <td>yes</td>\n",
              "      <td>Spain</td>\n",
              "      <td>no</td>\n",
              "      <td>8.0</td>\n",
              "      <td>18 and more</td>\n",
              "      <td>Parent</td>\n",
              "      <td>YES</td>\n",
              "    </tr>\n",
              "    <tr>\n",
              "      <th>3</th>\n",
              "      <td>1</td>\n",
              "      <td>1</td>\n",
              "      <td>0</td>\n",
              "      <td>1</td>\n",
              "      <td>0</td>\n",
              "      <td>0</td>\n",
              "      <td>1</td>\n",
              "      <td>1</td>\n",
              "      <td>0</td>\n",
              "      <td>1</td>\n",
              "      <td>35.0</td>\n",
              "      <td>f</td>\n",
              "      <td>White-European</td>\n",
              "      <td>no</td>\n",
              "      <td>yes</td>\n",
              "      <td>United States</td>\n",
              "      <td>no</td>\n",
              "      <td>6.0</td>\n",
              "      <td>18 and more</td>\n",
              "      <td>Self</td>\n",
              "      <td>NO</td>\n",
              "    </tr>\n",
              "    <tr>\n",
              "      <th>4</th>\n",
              "      <td>1</td>\n",
              "      <td>0</td>\n",
              "      <td>0</td>\n",
              "      <td>0</td>\n",
              "      <td>0</td>\n",
              "      <td>0</td>\n",
              "      <td>0</td>\n",
              "      <td>1</td>\n",
              "      <td>0</td>\n",
              "      <td>0</td>\n",
              "      <td>40.0</td>\n",
              "      <td>f</td>\n",
              "      <td>?</td>\n",
              "      <td>no</td>\n",
              "      <td>no</td>\n",
              "      <td>Egypt</td>\n",
              "      <td>no</td>\n",
              "      <td>2.0</td>\n",
              "      <td>18 and more</td>\n",
              "      <td>?</td>\n",
              "      <td>NO</td>\n",
              "    </tr>\n",
              "  </tbody>\n",
              "</table>\n",
              "</div>"
            ],
            "text/plain": [
              "  A1_Score A2_Score A3_Score A4_Score A5_Score A6_Score A7_Score A8_Score  \\\n",
              "0        1        1        1        1        0        0        1        1   \n",
              "1        1        1        0        1        0        0        0        1   \n",
              "2        1        1        0        1        1        0        1        1   \n",
              "3        1        1        0        1        0        0        1        1   \n",
              "4        1        0        0        0        0        0        0        1   \n",
              "\n",
              "  A9_Score A10_Score   age gender       ethnicity jundice austim  \\\n",
              "0        0         0  26.0      f  White-European      no     no   \n",
              "1        0         1  24.0      m          Latino      no    yes   \n",
              "2        1         1  27.0      m          Latino     yes    yes   \n",
              "3        0         1  35.0      f  White-European      no    yes   \n",
              "4        0         0  40.0      f               ?      no     no   \n",
              "\n",
              "   contry_of_res used_app_before  result     age_desc relation Class/ASD  \n",
              "0  United States              no     6.0  18 and more     Self        NO  \n",
              "1         Brazil              no     5.0  18 and more     Self        NO  \n",
              "2          Spain              no     8.0  18 and more   Parent       YES  \n",
              "3  United States              no     6.0  18 and more     Self        NO  \n",
              "4          Egypt              no     2.0  18 and more        ?        NO  "
            ]
          },
          "execution_count": 7,
          "metadata": {},
          "output_type": "execute_result"
        }
      ],
      "source": [
        "for i in object_dtype_variables:\n",
        "    df_data[i] = df_data[i].str.decode('utf-8')\n",
        "\n",
        "df_data.head()"
      ]
    },
    {
      "cell_type": "code",
      "execution_count": 8,
      "id": "d4db7456",
      "metadata": {
        "id": "d4db7456"
      },
      "outputs": [],
      "source": [
        "df_data.rename(columns = {'contry_of_res':'Country_of_res'}, inplace = True)\n",
        "\n",
        "df_data.rename(columns = {'age':'Age',\n",
        "                         'gender':'Gender',\n",
        "                         'ethnicity':'Ethnicity',\n",
        "                         'jundice':'Jundice',\n",
        "                         'austim':'Austim',\n",
        "                         'used_app_before': 'Used_app_before',\n",
        "                         'result':'Result',\n",
        "                         'age_desc':'Age_desc',\n",
        "                         'relation':'Relation'}, inplace=True)"
      ]
    },
    {
      "cell_type": "code",
      "execution_count": 9,
      "id": "cb10ca27",
      "metadata": {
        "colab": {
          "base_uri": "https://localhost:8080/",
          "height": 297
        },
        "id": "cb10ca27",
        "outputId": "9b997172-946c-4fa8-ace5-17dde7c8f739"
      },
      "outputs": [
        {
          "data": {
            "text/html": [
              "<div>\n",
              "<style scoped>\n",
              "    .dataframe tbody tr th:only-of-type {\n",
              "        vertical-align: middle;\n",
              "    }\n",
              "\n",
              "    .dataframe tbody tr th {\n",
              "        vertical-align: top;\n",
              "    }\n",
              "\n",
              "    .dataframe thead th {\n",
              "        text-align: right;\n",
              "    }\n",
              "</style>\n",
              "<table border=\"1\" class=\"dataframe\">\n",
              "  <thead>\n",
              "    <tr style=\"text-align: right;\">\n",
              "      <th></th>\n",
              "      <th>Age</th>\n",
              "      <th>Result</th>\n",
              "    </tr>\n",
              "  </thead>\n",
              "  <tbody>\n",
              "    <tr>\n",
              "      <th>count</th>\n",
              "      <td>702.000000</td>\n",
              "      <td>704.000000</td>\n",
              "    </tr>\n",
              "    <tr>\n",
              "      <th>mean</th>\n",
              "      <td>29.698006</td>\n",
              "      <td>4.875000</td>\n",
              "    </tr>\n",
              "    <tr>\n",
              "      <th>std</th>\n",
              "      <td>16.507465</td>\n",
              "      <td>2.501493</td>\n",
              "    </tr>\n",
              "    <tr>\n",
              "      <th>min</th>\n",
              "      <td>17.000000</td>\n",
              "      <td>0.000000</td>\n",
              "    </tr>\n",
              "    <tr>\n",
              "      <th>25%</th>\n",
              "      <td>21.000000</td>\n",
              "      <td>3.000000</td>\n",
              "    </tr>\n",
              "    <tr>\n",
              "      <th>50%</th>\n",
              "      <td>27.000000</td>\n",
              "      <td>4.000000</td>\n",
              "    </tr>\n",
              "    <tr>\n",
              "      <th>75%</th>\n",
              "      <td>35.000000</td>\n",
              "      <td>7.000000</td>\n",
              "    </tr>\n",
              "    <tr>\n",
              "      <th>max</th>\n",
              "      <td>383.000000</td>\n",
              "      <td>10.000000</td>\n",
              "    </tr>\n",
              "  </tbody>\n",
              "</table>\n",
              "</div>"
            ],
            "text/plain": [
              "              Age      Result\n",
              "count  702.000000  704.000000\n",
              "mean    29.698006    4.875000\n",
              "std     16.507465    2.501493\n",
              "min     17.000000    0.000000\n",
              "25%     21.000000    3.000000\n",
              "50%     27.000000    4.000000\n",
              "75%     35.000000    7.000000\n",
              "max    383.000000   10.000000"
            ]
          },
          "execution_count": 9,
          "metadata": {},
          "output_type": "execute_result"
        }
      ],
      "source": [
        "df_data.describe()"
      ]
    },
    {
      "cell_type": "code",
      "execution_count": 10,
      "id": "5326241b",
      "metadata": {
        "colab": {
          "base_uri": "https://localhost:8080/"
        },
        "id": "5326241b",
        "outputId": "81147de2-472d-4265-f2dc-7147edf2f2f3"
      },
      "outputs": [
        {
          "name": "stdout",
          "output_type": "stream",
          "text": [
            "<class 'pandas.core.frame.DataFrame'>\n",
            "RangeIndex: 704 entries, 0 to 703\n",
            "Data columns (total 21 columns):\n",
            " #   Column           Non-Null Count  Dtype  \n",
            "---  ------           --------------  -----  \n",
            " 0   A1_Score         704 non-null    int32  \n",
            " 1   A2_Score         704 non-null    int32  \n",
            " 2   A3_Score         704 non-null    int32  \n",
            " 3   A4_Score         704 non-null    int32  \n",
            " 4   A5_Score         704 non-null    int32  \n",
            " 5   A6_Score         704 non-null    int32  \n",
            " 6   A7_Score         704 non-null    int32  \n",
            " 7   A8_Score         704 non-null    int32  \n",
            " 8   A9_Score         704 non-null    int32  \n",
            " 9   A10_Score        704 non-null    int32  \n",
            " 10  Age              702 non-null    float64\n",
            " 11  Gender           704 non-null    object \n",
            " 12  Ethnicity        704 non-null    object \n",
            " 13  Jundice          704 non-null    object \n",
            " 14  Austim           704 non-null    object \n",
            " 15  Country_of_res   704 non-null    object \n",
            " 16  Used_app_before  704 non-null    object \n",
            " 17  Result           704 non-null    float64\n",
            " 18  Age_desc         704 non-null    object \n",
            " 19  Relation         704 non-null    object \n",
            " 20  Class/ASD        704 non-null    object \n",
            "dtypes: float64(2), int32(10), object(9)\n",
            "memory usage: 88.1+ KB\n"
          ]
        }
      ],
      "source": [
        "for i in df_data.columns:\n",
        "    if i.startswith(\"A\") and i.endswith(\"_Score\"):\n",
        "        df_data[i] = df_data[i].astype(int)\n",
        "\n",
        "df_data.info()"
      ]
    },
    {
      "cell_type": "code",
      "execution_count": 11,
      "id": "f71fb5b1",
      "metadata": {
        "colab": {
          "base_uri": "https://localhost:8080/"
        },
        "id": "f71fb5b1",
        "outputId": "e1fa16e3-8ce6-4831-a80b-9899393694df"
      },
      "outputs": [
        {
          "data": {
            "text/plain": [
              "(704, 21)"
            ]
          },
          "execution_count": 11,
          "metadata": {},
          "output_type": "execute_result"
        }
      ],
      "source": [
        "df_data.shape"
      ]
    },
    {
      "cell_type": "code",
      "execution_count": 12,
      "id": "34e7bb0b",
      "metadata": {
        "colab": {
          "base_uri": "https://localhost:8080/"
        },
        "id": "34e7bb0b",
        "outputId": "3a4a32d9-d19a-4cd7-c86d-90b3fad01c77"
      },
      "outputs": [
        {
          "data": {
            "text/plain": [
              "A1_Score           0\n",
              "A2_Score           0\n",
              "A3_Score           0\n",
              "A4_Score           0\n",
              "A5_Score           0\n",
              "A6_Score           0\n",
              "A7_Score           0\n",
              "A8_Score           0\n",
              "A9_Score           0\n",
              "A10_Score          0\n",
              "Age                2\n",
              "Gender             0\n",
              "Ethnicity          0\n",
              "Jundice            0\n",
              "Austim             0\n",
              "Country_of_res     0\n",
              "Used_app_before    0\n",
              "Result             0\n",
              "Age_desc           0\n",
              "Relation           0\n",
              "Class/ASD          0\n",
              "dtype: int64"
            ]
          },
          "execution_count": 12,
          "metadata": {},
          "output_type": "execute_result"
        }
      ],
      "source": [
        "df_data.isnull().sum()"
      ]
    },
    {
      "cell_type": "code",
      "execution_count": 13,
      "id": "cb5cd206",
      "metadata": {
        "colab": {
          "base_uri": "https://localhost:8080/"
        },
        "id": "cb5cd206",
        "outputId": "e456179c-c205-4667-f65c-42e1b1a3e3e5",
        "scrolled": true
      },
      "outputs": [
        {
          "data": {
            "text/plain": [
              "count    702.000000\n",
              "mean      29.698006\n",
              "std       16.507465\n",
              "min       17.000000\n",
              "25%       21.000000\n",
              "50%       27.000000\n",
              "75%       35.000000\n",
              "max      383.000000\n",
              "Name: Age, dtype: float64"
            ]
          },
          "execution_count": 13,
          "metadata": {},
          "output_type": "execute_result"
        }
      ],
      "source": [
        "df_data['Age'].describe()"
      ]
    },
    {
      "cell_type": "code",
      "execution_count": 14,
      "id": "06ecc18b",
      "metadata": {
        "id": "06ecc18b"
      },
      "outputs": [],
      "source": [
        "# 2 datapoints with 'Age' missing values, drop them\n",
        "df_data = df_data.loc[~(df_data.Age.isnull()),:]"
      ]
    },
    {
      "cell_type": "code",
      "execution_count": 15,
      "id": "9fd4374a",
      "metadata": {
        "colab": {
          "base_uri": "https://localhost:8080/"
        },
        "id": "9fd4374a",
        "outputId": "e7134103-12c3-4f6b-f759-6171232d0157"
      },
      "outputs": [
        {
          "name": "stdout",
          "output_type": "stream",
          "text": [
            "Age data with sample count:\n",
            " {17.0: 18, 18.0: 31, 19.0: 35, 20.0: 46, 21.0: 49, 22.0: 37, 23.0: 37, 24.0: 34, 25.0: 27, 26.0: 28, 27.0: 31, 28.0: 24, 29.0: 27, 30.0: 30, 31.0: 21, 32.0: 18, 33.0: 16, 34.0: 12, 35.0: 17, 36.0: 13, 37.0: 17, 38.0: 12, 39.0: 7, 40.0: 16, 41.0: 3, 42.0: 15, 43.0: 11, 44.0: 10, 45.0: 4, 46.0: 6, 47.0: 8, 48.0: 4, 49.0: 3, 50.0: 5, 51.0: 1, 52.0: 5, 53.0: 6, 54.0: 2, 55.0: 6, 56.0: 2, 58.0: 2, 59.0: 1, 60.0: 1, 61.0: 2, 64.0: 1, 383.0: 1}\n"
          ]
        }
      ],
      "source": [
        "dict_age = dict(Counter(df_data[\"Age\"]))\n",
        "dict_age_sorted = {i: dict_age[i] for i in sorted(list(dict_age.keys()))}\n",
        "print(\"Age data with sample count:\\n\", dict_age_sorted)"
      ]
    },
    {
      "cell_type": "code",
      "execution_count": 16,
      "id": "09ddaf87",
      "metadata": {
        "colab": {
          "base_uri": "https://localhost:8080/"
        },
        "id": "09ddaf87",
        "outputId": "816982b2-65a8-4bab-9ffc-e5684e218346"
      },
      "outputs": [
        {
          "name": "stdout",
          "output_type": "stream",
          "text": [
            "Age data (integer) with sample count:\n",
            " {17.0: 18, 18.0: 31, 19.0: 35, 20.0: 46, 21.0: 49, 22.0: 37, 23.0: 37, 24.0: 34, 25.0: 27, 26.0: 28, 27.0: 31, 28.0: 24, 29.0: 27, 30.0: 30, 31.0: 21, 32.0: 18, 33.0: 16, 34.0: 12, 35.0: 17, 36.0: 13, 37.0: 17, 38.0: 12, 39.0: 7, 40.0: 16, 41.0: 3, 42.0: 15, 43.0: 11, 44.0: 10, 45.0: 4, 46.0: 6, 47.0: 8, 48.0: 4, 49.0: 3, 50.0: 5, 51.0: 1, 52.0: 5, 53.0: 6, 54.0: 2, 55.0: 6, 56.0: 2, 58.0: 2, 59.0: 1, 60.0: 1, 61.0: 2, 64.0: 1, 383.0: 1}\n"
          ]
        }
      ],
      "source": [
        "# Drop all the values above 120 (max human age)\n",
        "df_data = df_data.loc[~(df_data.Age>120), :]\n",
        "\n",
        "df_data['Age'] = df_data.Age.astype(int)\n",
        "\n",
        "dict_age_new = dict(Counter(df_data[\"Age\"]))\n",
        "dict_age_sorted_new = {i: dict_age[i] for i in sorted(list(dict_age.keys()))}\n",
        "print(\"Age data (integer) with sample count:\\n\", dict_age_sorted_new)"
      ]
    },
    {
      "cell_type": "code",
      "execution_count": 17,
      "id": "3375806a",
      "metadata": {
        "id": "3375806a"
      },
      "outputs": [],
      "source": [
        "df_data['Result'] = df_data.Result.astype(int)"
      ]
    },
    {
      "cell_type": "code",
      "execution_count": 18,
      "id": "7f6d0278",
      "metadata": {
        "colab": {
          "base_uri": "https://localhost:8080/"
        },
        "id": "7f6d0278",
        "outputId": "c8549364-bbd6-4203-ed7c-d791e07b46e6"
      },
      "outputs": [
        {
          "name": "stdout",
          "output_type": "stream",
          "text": [
            "<class 'pandas.core.frame.DataFrame'>\n",
            "Index: 701 entries, 0 to 703\n",
            "Data columns (total 21 columns):\n",
            " #   Column           Non-Null Count  Dtype \n",
            "---  ------           --------------  ----- \n",
            " 0   A1_Score         701 non-null    int32 \n",
            " 1   A2_Score         701 non-null    int32 \n",
            " 2   A3_Score         701 non-null    int32 \n",
            " 3   A4_Score         701 non-null    int32 \n",
            " 4   A5_Score         701 non-null    int32 \n",
            " 5   A6_Score         701 non-null    int32 \n",
            " 6   A7_Score         701 non-null    int32 \n",
            " 7   A8_Score         701 non-null    int32 \n",
            " 8   A9_Score         701 non-null    int32 \n",
            " 9   A10_Score        701 non-null    int32 \n",
            " 10  Age              701 non-null    int32 \n",
            " 11  Gender           701 non-null    object\n",
            " 12  Ethnicity        701 non-null    object\n",
            " 13  Jundice          701 non-null    object\n",
            " 14  Austim           701 non-null    object\n",
            " 15  Country_of_res   701 non-null    object\n",
            " 16  Used_app_before  701 non-null    object\n",
            " 17  Result           701 non-null    int32 \n",
            " 18  Age_desc         701 non-null    object\n",
            " 19  Relation         701 non-null    object\n",
            " 20  Class/ASD        701 non-null    object\n",
            "dtypes: int32(12), object(9)\n",
            "memory usage: 87.6+ KB\n"
          ]
        }
      ],
      "source": [
        "df_data.info()"
      ]
    },
    {
      "cell_type": "code",
      "execution_count": 19,
      "id": "fefdd7f0",
      "metadata": {
        "colab": {
          "base_uri": "https://localhost:8080/"
        },
        "id": "fefdd7f0",
        "outputId": "f57d7ae4-ab55-4dae-9502-785d82b9edac"
      },
      "outputs": [
        {
          "name": "stdout",
          "output_type": "stream",
          "text": [
            "Unique values of 'Gender' variable:' {'m', 'f'}\n",
            "Number of unique items in 'Gender':'2\n",
            "\n",
            "Unique values of 'Ethnicity' variable:' {'Hispanic', 'Others', 'Pasifika', 'Asian', 'South Asian', 'others', 'Turkish', 'White-European', 'Latino', 'Black', 'Middle Eastern ', '?'}\n",
            "Number of unique items in 'Ethnicity':'12\n",
            "\n",
            "Unique values of 'Jundice' variable:' {'yes', 'no'}\n",
            "Number of unique items in 'Jundice':'2\n",
            "\n",
            "Unique values of 'Austim' variable:' {'yes', 'no'}\n",
            "Number of unique items in 'Austim':'2\n",
            "\n",
            "Unique values of 'Country_of_res' variable:' {'Jordan', 'Indonesia', 'Costa Rica', 'Hong Kong', 'Russia', 'Australia', 'Japan', 'Iraq', 'Pakistan', 'Saudi Arabia', 'Malaysia', 'Mexico', 'China', 'Sweden', 'Austria', 'Niger', 'India', 'Spain', 'Egypt', 'Sierra Leone', 'Aruba', 'Philippines', 'Argentina', 'Romania', 'Nicaragua', 'Italy', 'Germany', 'United States', 'Serbia', 'Turkey', 'Belgium', 'Oman', 'Iceland', 'France', 'Kazakhstan', 'Sri Lanka', 'Portugal', 'Bangladesh', 'Tonga', 'Uruguay', 'Bolivia', 'AmericanSamoa', 'United Kingdom', 'New Zealand', 'United Arab Emirates', 'Finland', 'South Africa', 'Ukraine', 'Cyprus', 'Ethiopia', 'Czech Republic', 'Iran', 'Brazil', 'Armenia', 'Viet Nam', 'Burundi', 'Canada', 'Lebanon', 'Ecuador', 'Ireland', 'Afghanistan', 'Chile', 'Bahamas', 'Netherlands', 'Nepal', 'Angola', 'Azerbaijan'}\n",
            "Number of unique items in 'Country_of_res':'67\n",
            "\n",
            "Unique values of 'Used_app_before' variable:' {'yes', 'no'}\n",
            "Number of unique items in 'Used_app_before':'2\n",
            "\n",
            "Unique values of 'Age_desc' variable:' {'18 and more'}\n",
            "Number of unique items in 'Age_desc':'1\n",
            "\n",
            "Unique values of 'Relation' variable:' {'Self', 'Others', 'Parent', 'Health care professional', 'Relative', '?'}\n",
            "Number of unique items in 'Relation':'6\n",
            "\n",
            "Unique values of 'Class/ASD' variable:' {'NO', 'YES'}\n",
            "Number of unique items in 'Class/ASD':'2\n",
            "\n"
          ]
        }
      ],
      "source": [
        "object_dtype_variables = df_data.select_dtypes([np.object_]).columns.to_list()\n",
        "for i in object_dtype_variables:\n",
        "    print(f\"Unique values of '{i}' variable:' {set(df_data[i])}\")\n",
        "    print(f\"Number of unique items in '{i}':'{len(set(df_data[i]))}\\n\")"
      ]
    },
    {
      "cell_type": "code",
      "execution_count": 20,
      "id": "29d4e7c6",
      "metadata": {
        "colab": {
          "base_uri": "https://localhost:8080/"
        },
        "id": "29d4e7c6",
        "outputId": "958cfb1c-f745-4d72-8d33-8b337ec62a80"
      },
      "outputs": [
        {
          "data": {
            "text/plain": [
              "Age_desc\n",
              "18 and more     683\n",
              "Less than 18     18\n",
              "Name: count, dtype: int64"
            ]
          },
          "execution_count": 20,
          "metadata": {},
          "output_type": "execute_result"
        }
      ],
      "source": [
        "df_data['Age_desc'] = np.where(df_data['Age']<18, 'Less than 18', df_data['Age_desc'])\n",
        "\n",
        "df_data['Age_desc'].value_counts()"
      ]
    },
    {
      "cell_type": "code",
      "execution_count": 21,
      "id": "420d7e8b",
      "metadata": {
        "colab": {
          "base_uri": "https://localhost:8080/"
        },
        "id": "420d7e8b",
        "outputId": "8df81ceb-fa4b-4c43-9e03-706cf428845d"
      },
      "outputs": [
        {
          "data": {
            "text/plain": [
              "Relation\n",
              "Self                        521\n",
              "?                            93\n",
              "Parent                       50\n",
              "Relative                     28\n",
              "Others                        5\n",
              "Health care professional      4\n",
              "Name: count, dtype: int64"
            ]
          },
          "execution_count": 21,
          "metadata": {},
          "output_type": "execute_result"
        }
      ],
      "source": [
        "df_data['Relation'].value_counts()"
      ]
    },
    {
      "cell_type": "code",
      "execution_count": 22,
      "id": "ebdc828f",
      "metadata": {
        "colab": {
          "base_uri": "https://localhost:8080/"
        },
        "id": "ebdc828f",
        "outputId": "396fe2e2-ea66-43a9-abb3-05af6b23ca98"
      },
      "outputs": [
        {
          "data": {
            "text/plain": [
              "Ethnicity\n",
              "White-European     233\n",
              "Asian              123\n",
              "?                   93\n",
              "Middle Eastern      92\n",
              "Black               43\n",
              "South Asian         36\n",
              "Others              30\n",
              "Latino              20\n",
              "Hispanic            13\n",
              "Pasifika            11\n",
              "Turkish              6\n",
              "others               1\n",
              "Name: count, dtype: int64"
            ]
          },
          "execution_count": 22,
          "metadata": {},
          "output_type": "execute_result"
        }
      ],
      "source": [
        "df_data['Ethnicity'].value_counts()"
      ]
    },
    {
      "cell_type": "code",
      "execution_count": 23,
      "id": "05aeded1",
      "metadata": {
        "colab": {
          "base_uri": "https://localhost:8080/"
        },
        "id": "05aeded1",
        "outputId": "d673afa7-5faa-4c02-c8c1-86226f4ded95"
      },
      "outputs": [
        {
          "name": "stdout",
          "output_type": "stream",
          "text": [
            "13.267 %\n"
          ]
        }
      ],
      "source": [
        "print(round(100*len(df_data.loc[((df_data.Relation=='?') & (df_data.Ethnicity=='?')), :])/len(df_data),3),\"%\")"
      ]
    },
    {
      "cell_type": "code",
      "execution_count": 24,
      "id": "f3cdad13",
      "metadata": {
        "id": "f3cdad13"
      },
      "outputs": [],
      "source": [
        "df = df_data.loc[((df_data.Relation!='?') & (df_data.Ethnicity!='?')),:]\n",
        "\n",
        "df['Ethnicity'] = df['Ethnicity'].replace('others', 'Others')"
      ]
    },
    {
      "cell_type": "code",
      "execution_count": 25,
      "id": "efeea673",
      "metadata": {
        "id": "efeea673"
      },
      "outputs": [],
      "source": [
        "df[\"Country_of_res\"] = df[\"Country_of_res\"].replace('AmericanSamoa', 'American Samoa')"
      ]
    },
    {
      "cell_type": "code",
      "execution_count": 26,
      "id": "9a_rP7YCdSJV",
      "metadata": {
        "colab": {
          "base_uri": "https://localhost:8080/"
        },
        "id": "9a_rP7YCdSJV",
        "outputId": "1bfccdfc-f7b0-422d-e9d2-b71f13c7a87b"
      },
      "outputs": [
        {
          "name": "stderr",
          "output_type": "stream",
          "text": [
            "\n",
            "[notice] A new release of pip is available: 23.3.1 -> 24.0\n",
            "[notice] To update, run: python.exe -m pip install --upgrade pip\n"
          ]
        },
        {
          "name": "stdout",
          "output_type": "stream",
          "text": [
            "Collecting pycountry_convert\n",
            "  Downloading pycountry_convert-0.7.2-py3-none-any.whl.metadata (7.2 kB)\n",
            "Collecting pprintpp>=0.3.0 (from pycountry_convert)\n",
            "  Downloading pprintpp-0.4.0-py2.py3-none-any.whl.metadata (7.9 kB)\n",
            "Collecting pycountry>=16.11.27.1 (from pycountry_convert)\n",
            "  Downloading pycountry-23.12.11-py3-none-any.whl.metadata (12 kB)\n",
            "Collecting pytest>=3.4.0 (from pycountry_convert)\n",
            "  Downloading pytest-8.1.1-py3-none-any.whl.metadata (7.6 kB)\n",
            "Collecting pytest-mock>=1.6.3 (from pycountry_convert)\n",
            "  Downloading pytest_mock-3.14.0-py3-none-any.whl.metadata (3.8 kB)\n",
            "Collecting pytest-cov>=2.5.1 (from pycountry_convert)\n",
            "  Downloading pytest_cov-5.0.0-py3-none-any.whl.metadata (27 kB)\n",
            "Collecting repoze.lru>=0.7 (from pycountry_convert)\n",
            "  Downloading repoze.lru-0.7-py3-none-any.whl.metadata (1.1 kB)\n",
            "Requirement already satisfied: wheel>=0.30.0 in c:\\users\\nithi\\appdata\\local\\programs\\python\\python311\\lib\\site-packages (from pycountry_convert) (0.41.0)\n",
            "Collecting iniconfig (from pytest>=3.4.0->pycountry_convert)\n",
            "  Downloading iniconfig-2.0.0-py3-none-any.whl.metadata (2.6 kB)\n",
            "Requirement already satisfied: packaging in c:\\users\\nithi\\appdata\\local\\programs\\python\\python311\\lib\\site-packages (from pytest>=3.4.0->pycountry_convert) (23.1)\n",
            "Collecting pluggy<2.0,>=1.4 (from pytest>=3.4.0->pycountry_convert)\n",
            "  Downloading pluggy-1.4.0-py3-none-any.whl.metadata (4.3 kB)\n",
            "Requirement already satisfied: colorama in c:\\users\\nithi\\appdata\\local\\programs\\python\\python311\\lib\\site-packages (from pytest>=3.4.0->pycountry_convert) (0.4.6)\n",
            "Collecting coverage>=5.2.1 (from coverage[toml]>=5.2.1->pytest-cov>=2.5.1->pycountry_convert)\n",
            "  Downloading coverage-7.4.4-cp311-cp311-win_amd64.whl.metadata (8.4 kB)\n",
            "Downloading pycountry_convert-0.7.2-py3-none-any.whl (13 kB)\n",
            "Downloading pprintpp-0.4.0-py2.py3-none-any.whl (16 kB)\n",
            "Downloading pycountry-23.12.11-py3-none-any.whl (6.2 MB)\n",
            "   ---------------------------------------- 0.0/6.2 MB ? eta -:--:--\n",
            "   ---------------------------------------- 0.1/6.2 MB 1.3 MB/s eta 0:00:05\n",
            "    --------------------------------------- 0.2/6.2 MB 1.8 MB/s eta 0:00:04\n",
            "   - -------------------------------------- 0.3/6.2 MB 2.2 MB/s eta 0:00:03\n",
            "   -- ------------------------------------- 0.3/6.2 MB 2.1 MB/s eta 0:00:03\n",
            "   --- ------------------------------------ 0.5/6.2 MB 2.3 MB/s eta 0:00:03\n",
            "   --- ------------------------------------ 0.6/6.2 MB 2.4 MB/s eta 0:00:03\n",
            "   ---- ----------------------------------- 0.7/6.2 MB 2.3 MB/s eta 0:00:03\n",
            "   ----- ---------------------------------- 0.8/6.2 MB 2.4 MB/s eta 0:00:03\n",
            "   ----- ---------------------------------- 0.9/6.2 MB 2.2 MB/s eta 0:00:03\n",
            "   ------ --------------------------------- 1.0/6.2 MB 2.3 MB/s eta 0:00:03\n",
            "   ------- -------------------------------- 1.1/6.2 MB 2.4 MB/s eta 0:00:03\n",
            "   ------- -------------------------------- 1.2/6.2 MB 2.3 MB/s eta 0:00:03\n",
            "   -------- ------------------------------- 1.4/6.2 MB 2.4 MB/s eta 0:00:03\n",
            "   -------- ------------------------------- 1.4/6.2 MB 2.3 MB/s eta 0:00:03\n",
            "   --------- ------------------------------ 1.5/6.2 MB 2.3 MB/s eta 0:00:03\n",
            "   ---------- ----------------------------- 1.7/6.2 MB 2.3 MB/s eta 0:00:02\n",
            "   ----------- ---------------------------- 1.8/6.2 MB 2.4 MB/s eta 0:00:02\n",
            "   ----------- ---------------------------- 1.8/6.2 MB 2.4 MB/s eta 0:00:02\n",
            "   ------------ --------------------------- 1.9/6.2 MB 2.3 MB/s eta 0:00:02\n",
            "   ------------- -------------------------- 2.0/6.2 MB 2.3 MB/s eta 0:00:02\n",
            "   ------------- -------------------------- 2.2/6.2 MB 2.3 MB/s eta 0:00:02\n",
            "   -------------- ------------------------- 2.3/6.2 MB 2.3 MB/s eta 0:00:02\n",
            "   --------------- ------------------------ 2.4/6.2 MB 2.3 MB/s eta 0:00:02\n",
            "   ---------------- ----------------------- 2.6/6.2 MB 2.4 MB/s eta 0:00:02\n",
            "   ---------------- ----------------------- 2.6/6.2 MB 2.4 MB/s eta 0:00:02\n",
            "   ------------------ --------------------- 2.8/6.2 MB 2.4 MB/s eta 0:00:02\n",
            "   ------------------- -------------------- 3.1/6.2 MB 2.6 MB/s eta 0:00:02\n",
            "   --------------------- ------------------ 3.3/6.2 MB 2.7 MB/s eta 0:00:02\n",
            "   ---------------------- ----------------- 3.4/6.2 MB 2.7 MB/s eta 0:00:02\n",
            "   ----------------------- ---------------- 3.7/6.2 MB 2.8 MB/s eta 0:00:01\n",
            "   ------------------------- -------------- 4.0/6.2 MB 2.8 MB/s eta 0:00:01\n",
            "   -------------------------- ------------- 4.1/6.2 MB 2.9 MB/s eta 0:00:01\n",
            "   --------------------------- ------------ 4.3/6.2 MB 3.0 MB/s eta 0:00:01\n",
            "   ---------------------------- ----------- 4.5/6.2 MB 2.9 MB/s eta 0:00:01\n",
            "   ------------------------------ --------- 4.7/6.2 MB 3.0 MB/s eta 0:00:01\n",
            "   -------------------------------- ------- 5.0/6.2 MB 3.1 MB/s eta 0:00:01\n",
            "   --------------------------------- ------ 5.2/6.2 MB 3.2 MB/s eta 0:00:01\n",
            "   ----------------------------------- ---- 5.5/6.2 MB 3.2 MB/s eta 0:00:01\n",
            "   ------------------------------------ --- 5.7/6.2 MB 3.2 MB/s eta 0:00:01\n",
            "   ------------------------------------- -- 5.8/6.2 MB 3.3 MB/s eta 0:00:01\n",
            "   ------------------------------------- -- 5.9/6.2 MB 3.2 MB/s eta 0:00:01\n",
            "   ---------------------------------------  6.1/6.2 MB 3.2 MB/s eta 0:00:01\n",
            "   ---------------------------------------- 6.2/6.2 MB 3.2 MB/s eta 0:00:00\n",
            "Downloading pytest-8.1.1-py3-none-any.whl (337 kB)\n",
            "   ---------------------------------------- 0.0/337.4 kB ? eta -:--:--\n",
            "   ----------------------------- --------- 256.0/337.4 kB 15.4 MB/s eta 0:00:01\n",
            "   ---------------------------------------- 337.4/337.4 kB 5.2 MB/s eta 0:00:00\n",
            "Downloading pytest_cov-5.0.0-py3-none-any.whl (21 kB)\n",
            "Downloading pytest_mock-3.14.0-py3-none-any.whl (9.9 kB)\n",
            "Downloading repoze.lru-0.7-py3-none-any.whl (10 kB)\n",
            "Downloading coverage-7.4.4-cp311-cp311-win_amd64.whl (209 kB)\n",
            "   ---------------------------------------- 0.0/209.3 kB ? eta -:--:--\n",
            "   ---------------------------------------- 209.3/209.3 kB 6.2 MB/s eta 0:00:00\n",
            "Downloading pluggy-1.4.0-py3-none-any.whl (20 kB)\n",
            "Downloading iniconfig-2.0.0-py3-none-any.whl (5.9 kB)\n",
            "Installing collected packages: repoze.lru, pprintpp, pycountry, pluggy, iniconfig, coverage, pytest, pytest-mock, pytest-cov, pycountry_convert\n",
            "Successfully installed coverage-7.4.4 iniconfig-2.0.0 pluggy-1.4.0 pprintpp-0.4.0 pycountry-23.12.11 pycountry_convert-0.7.2 pytest-8.1.1 pytest-cov-5.0.0 pytest-mock-3.14.0 repoze.lru-0.7\n"
          ]
        }
      ],
      "source": [
        "!pip install pycountry_convert"
      ]
    },
    {
      "cell_type": "code",
      "execution_count": 27,
      "id": "c13082d0",
      "metadata": {
        "colab": {
          "base_uri": "https://localhost:8080/",
          "height": 309
        },
        "id": "c13082d0",
        "outputId": "906aaeb0-aa59-4b46-fe91-3774c4dbbeae"
      },
      "outputs": [
        {
          "data": {
            "text/html": [
              "<div>\n",
              "<style scoped>\n",
              "    .dataframe tbody tr th:only-of-type {\n",
              "        vertical-align: middle;\n",
              "    }\n",
              "\n",
              "    .dataframe tbody tr th {\n",
              "        vertical-align: top;\n",
              "    }\n",
              "\n",
              "    .dataframe thead th {\n",
              "        text-align: right;\n",
              "    }\n",
              "</style>\n",
              "<table border=\"1\" class=\"dataframe\">\n",
              "  <thead>\n",
              "    <tr style=\"text-align: right;\">\n",
              "      <th></th>\n",
              "      <th>A1_Score</th>\n",
              "      <th>A2_Score</th>\n",
              "      <th>A3_Score</th>\n",
              "      <th>A4_Score</th>\n",
              "      <th>A5_Score</th>\n",
              "      <th>A6_Score</th>\n",
              "      <th>A7_Score</th>\n",
              "      <th>A8_Score</th>\n",
              "      <th>A9_Score</th>\n",
              "      <th>A10_Score</th>\n",
              "      <th>Age</th>\n",
              "      <th>Gender</th>\n",
              "      <th>Ethnicity</th>\n",
              "      <th>Jundice</th>\n",
              "      <th>Austim</th>\n",
              "      <th>Country_of_res</th>\n",
              "      <th>Used_app_before</th>\n",
              "      <th>Result</th>\n",
              "      <th>Age_desc</th>\n",
              "      <th>Relation</th>\n",
              "      <th>Class/ASD</th>\n",
              "      <th>Continent</th>\n",
              "    </tr>\n",
              "  </thead>\n",
              "  <tbody>\n",
              "    <tr>\n",
              "      <th>0</th>\n",
              "      <td>1</td>\n",
              "      <td>1</td>\n",
              "      <td>1</td>\n",
              "      <td>1</td>\n",
              "      <td>0</td>\n",
              "      <td>0</td>\n",
              "      <td>1</td>\n",
              "      <td>1</td>\n",
              "      <td>0</td>\n",
              "      <td>0</td>\n",
              "      <td>26</td>\n",
              "      <td>f</td>\n",
              "      <td>White-European</td>\n",
              "      <td>no</td>\n",
              "      <td>no</td>\n",
              "      <td>United States</td>\n",
              "      <td>no</td>\n",
              "      <td>6</td>\n",
              "      <td>18 and more</td>\n",
              "      <td>Self</td>\n",
              "      <td>NO</td>\n",
              "      <td>North America</td>\n",
              "    </tr>\n",
              "    <tr>\n",
              "      <th>1</th>\n",
              "      <td>1</td>\n",
              "      <td>1</td>\n",
              "      <td>0</td>\n",
              "      <td>1</td>\n",
              "      <td>0</td>\n",
              "      <td>0</td>\n",
              "      <td>0</td>\n",
              "      <td>1</td>\n",
              "      <td>0</td>\n",
              "      <td>1</td>\n",
              "      <td>24</td>\n",
              "      <td>m</td>\n",
              "      <td>Latino</td>\n",
              "      <td>no</td>\n",
              "      <td>yes</td>\n",
              "      <td>Brazil</td>\n",
              "      <td>no</td>\n",
              "      <td>5</td>\n",
              "      <td>18 and more</td>\n",
              "      <td>Self</td>\n",
              "      <td>NO</td>\n",
              "      <td>South America</td>\n",
              "    </tr>\n",
              "    <tr>\n",
              "      <th>2</th>\n",
              "      <td>1</td>\n",
              "      <td>1</td>\n",
              "      <td>0</td>\n",
              "      <td>1</td>\n",
              "      <td>1</td>\n",
              "      <td>0</td>\n",
              "      <td>1</td>\n",
              "      <td>1</td>\n",
              "      <td>1</td>\n",
              "      <td>1</td>\n",
              "      <td>27</td>\n",
              "      <td>m</td>\n",
              "      <td>Latino</td>\n",
              "      <td>yes</td>\n",
              "      <td>yes</td>\n",
              "      <td>Spain</td>\n",
              "      <td>no</td>\n",
              "      <td>8</td>\n",
              "      <td>18 and more</td>\n",
              "      <td>Parent</td>\n",
              "      <td>YES</td>\n",
              "      <td>Europe</td>\n",
              "    </tr>\n",
              "    <tr>\n",
              "      <th>3</th>\n",
              "      <td>1</td>\n",
              "      <td>1</td>\n",
              "      <td>0</td>\n",
              "      <td>1</td>\n",
              "      <td>0</td>\n",
              "      <td>0</td>\n",
              "      <td>1</td>\n",
              "      <td>1</td>\n",
              "      <td>0</td>\n",
              "      <td>1</td>\n",
              "      <td>35</td>\n",
              "      <td>f</td>\n",
              "      <td>White-European</td>\n",
              "      <td>no</td>\n",
              "      <td>yes</td>\n",
              "      <td>United States</td>\n",
              "      <td>no</td>\n",
              "      <td>6</td>\n",
              "      <td>18 and more</td>\n",
              "      <td>Self</td>\n",
              "      <td>NO</td>\n",
              "      <td>North America</td>\n",
              "    </tr>\n",
              "    <tr>\n",
              "      <th>5</th>\n",
              "      <td>1</td>\n",
              "      <td>1</td>\n",
              "      <td>1</td>\n",
              "      <td>1</td>\n",
              "      <td>1</td>\n",
              "      <td>0</td>\n",
              "      <td>1</td>\n",
              "      <td>1</td>\n",
              "      <td>1</td>\n",
              "      <td>1</td>\n",
              "      <td>36</td>\n",
              "      <td>m</td>\n",
              "      <td>Others</td>\n",
              "      <td>yes</td>\n",
              "      <td>no</td>\n",
              "      <td>United States</td>\n",
              "      <td>no</td>\n",
              "      <td>9</td>\n",
              "      <td>18 and more</td>\n",
              "      <td>Self</td>\n",
              "      <td>YES</td>\n",
              "      <td>North America</td>\n",
              "    </tr>\n",
              "  </tbody>\n",
              "</table>\n",
              "</div>"
            ],
            "text/plain": [
              "   A1_Score  A2_Score  A3_Score  A4_Score  A5_Score  A6_Score  A7_Score  \\\n",
              "0         1         1         1         1         0         0         1   \n",
              "1         1         1         0         1         0         0         0   \n",
              "2         1         1         0         1         1         0         1   \n",
              "3         1         1         0         1         0         0         1   \n",
              "5         1         1         1         1         1         0         1   \n",
              "\n",
              "   A8_Score  A9_Score  A10_Score  Age Gender       Ethnicity Jundice Austim  \\\n",
              "0         1         0          0   26      f  White-European      no     no   \n",
              "1         1         0          1   24      m          Latino      no    yes   \n",
              "2         1         1          1   27      m          Latino     yes    yes   \n",
              "3         1         0          1   35      f  White-European      no    yes   \n",
              "5         1         1          1   36      m          Others     yes     no   \n",
              "\n",
              "  Country_of_res Used_app_before  Result     Age_desc Relation Class/ASD  \\\n",
              "0  United States              no       6  18 and more     Self        NO   \n",
              "1         Brazil              no       5  18 and more     Self        NO   \n",
              "2          Spain              no       8  18 and more   Parent       YES   \n",
              "3  United States              no       6  18 and more     Self        NO   \n",
              "5  United States              no       9  18 and more     Self       YES   \n",
              "\n",
              "       Continent  \n",
              "0  North America  \n",
              "1  South America  \n",
              "2         Europe  \n",
              "3  North America  \n",
              "5  North America  "
            ]
          },
          "execution_count": 27,
          "metadata": {},
          "output_type": "execute_result"
        }
      ],
      "source": [
        "import pycountry_convert as pc\n",
        "def country_to_continent(country_name):\n",
        "    country_alpha2 = pc.country_name_to_country_alpha2(country_name)\n",
        "    country_continent_code = pc.country_alpha2_to_continent_code(country_alpha2)\n",
        "    country_continent_name = pc.convert_continent_code_to_continent_name(country_continent_code)\n",
        "    return country_continent_name\n",
        "\n",
        "df['Continent'] = df['Country_of_res'].apply(lambda x: country_to_continent(x))\n",
        "\n",
        "df.head()"
      ]
    },
    {
      "cell_type": "code",
      "execution_count": 28,
      "id": "8f8c4dec",
      "metadata": {
        "id": "8f8c4dec"
      },
      "outputs": [],
      "source": [
        "df = df.drop([\"Country_of_res\"], axis=1)"
      ]
    },
    {
      "cell_type": "code",
      "execution_count": 29,
      "id": "c372ca8b",
      "metadata": {
        "colab": {
          "base_uri": "https://localhost:8080/"
        },
        "id": "c372ca8b",
        "outputId": "9d2c72f3-0b40-481c-ba2e-a7cdff7caae2"
      },
      "outputs": [
        {
          "name": "stdout",
          "output_type": "stream",
          "text": [
            "<class 'pandas.core.frame.DataFrame'>\n",
            "Index: 608 entries, 0 to 703\n",
            "Data columns (total 21 columns):\n",
            " #   Column           Non-Null Count  Dtype \n",
            "---  ------           --------------  ----- \n",
            " 0   A1_Score         608 non-null    int32 \n",
            " 1   A2_Score         608 non-null    int32 \n",
            " 2   A3_Score         608 non-null    int32 \n",
            " 3   A4_Score         608 non-null    int32 \n",
            " 4   A5_Score         608 non-null    int32 \n",
            " 5   A6_Score         608 non-null    int32 \n",
            " 6   A7_Score         608 non-null    int32 \n",
            " 7   A8_Score         608 non-null    int32 \n",
            " 8   A9_Score         608 non-null    int32 \n",
            " 9   A10_Score        608 non-null    int32 \n",
            " 10  Age              608 non-null    int32 \n",
            " 11  Gender           608 non-null    object\n",
            " 12  Ethnicity        608 non-null    object\n",
            " 13  Jundice          608 non-null    object\n",
            " 14  Austim           608 non-null    object\n",
            " 15  Used_app_before  608 non-null    object\n",
            " 16  Result           608 non-null    int32 \n",
            " 17  Age_desc         608 non-null    object\n",
            " 18  Relation         608 non-null    object\n",
            " 19  Class/ASD        608 non-null    object\n",
            " 20  Continent        608 non-null    object\n",
            "dtypes: int32(12), object(9)\n",
            "memory usage: 76.0+ KB\n"
          ]
        }
      ],
      "source": [
        "df.info()"
      ]
    },
    {
      "cell_type": "code",
      "execution_count": 30,
      "id": "04790c14",
      "metadata": {
        "colab": {
          "base_uri": "https://localhost:8080/",
          "height": 258
        },
        "id": "04790c14",
        "outputId": "c4566f4d-fb15-477b-8295-e76416b0b81e"
      },
      "outputs": [
        {
          "data": {
            "text/html": [
              "<div>\n",
              "<style scoped>\n",
              "    .dataframe tbody tr th:only-of-type {\n",
              "        vertical-align: middle;\n",
              "    }\n",
              "\n",
              "    .dataframe tbody tr th {\n",
              "        vertical-align: top;\n",
              "    }\n",
              "\n",
              "    .dataframe thead th {\n",
              "        text-align: right;\n",
              "    }\n",
              "</style>\n",
              "<table border=\"1\" class=\"dataframe\">\n",
              "  <thead>\n",
              "    <tr style=\"text-align: right;\">\n",
              "      <th></th>\n",
              "      <th>A1_Score</th>\n",
              "      <th>A2_Score</th>\n",
              "      <th>A3_Score</th>\n",
              "      <th>A4_Score</th>\n",
              "      <th>A5_Score</th>\n",
              "      <th>A6_Score</th>\n",
              "      <th>A7_Score</th>\n",
              "      <th>A8_Score</th>\n",
              "      <th>A9_Score</th>\n",
              "      <th>A10_Score</th>\n",
              "      <th>Age</th>\n",
              "      <th>Gender</th>\n",
              "      <th>Jundice</th>\n",
              "      <th>Austim</th>\n",
              "      <th>Used_app_before</th>\n",
              "      <th>Result</th>\n",
              "      <th>Age_desc</th>\n",
              "      <th>Class/ASD</th>\n",
              "      <th>Ethnicity_Asian</th>\n",
              "      <th>Ethnicity_Black</th>\n",
              "      <th>Ethnicity_Hispanic</th>\n",
              "      <th>Ethnicity_Latino</th>\n",
              "      <th>Ethnicity_Middle Eastern</th>\n",
              "      <th>Ethnicity_Others</th>\n",
              "      <th>Ethnicity_Pasifika</th>\n",
              "      <th>Ethnicity_South Asian</th>\n",
              "      <th>Ethnicity_Turkish</th>\n",
              "      <th>Ethnicity_White-European</th>\n",
              "      <th>Relation_Health care professional</th>\n",
              "      <th>Relation_Others</th>\n",
              "      <th>Relation_Parent</th>\n",
              "      <th>Relation_Relative</th>\n",
              "      <th>Relation_Self</th>\n",
              "      <th>Continent_Africa</th>\n",
              "      <th>Continent_Asia</th>\n",
              "      <th>Continent_Europe</th>\n",
              "      <th>Continent_North America</th>\n",
              "      <th>Continent_Oceania</th>\n",
              "      <th>Continent_South America</th>\n",
              "    </tr>\n",
              "  </thead>\n",
              "  <tbody>\n",
              "    <tr>\n",
              "      <th>0</th>\n",
              "      <td>1</td>\n",
              "      <td>1</td>\n",
              "      <td>1</td>\n",
              "      <td>1</td>\n",
              "      <td>0</td>\n",
              "      <td>0</td>\n",
              "      <td>1</td>\n",
              "      <td>1</td>\n",
              "      <td>0</td>\n",
              "      <td>0</td>\n",
              "      <td>26</td>\n",
              "      <td>0</td>\n",
              "      <td>0</td>\n",
              "      <td>0</td>\n",
              "      <td>0</td>\n",
              "      <td>6</td>\n",
              "      <td>1</td>\n",
              "      <td>0</td>\n",
              "      <td>False</td>\n",
              "      <td>False</td>\n",
              "      <td>False</td>\n",
              "      <td>False</td>\n",
              "      <td>False</td>\n",
              "      <td>False</td>\n",
              "      <td>False</td>\n",
              "      <td>False</td>\n",
              "      <td>False</td>\n",
              "      <td>True</td>\n",
              "      <td>False</td>\n",
              "      <td>False</td>\n",
              "      <td>False</td>\n",
              "      <td>False</td>\n",
              "      <td>True</td>\n",
              "      <td>False</td>\n",
              "      <td>False</td>\n",
              "      <td>False</td>\n",
              "      <td>True</td>\n",
              "      <td>False</td>\n",
              "      <td>False</td>\n",
              "    </tr>\n",
              "    <tr>\n",
              "      <th>1</th>\n",
              "      <td>1</td>\n",
              "      <td>1</td>\n",
              "      <td>0</td>\n",
              "      <td>1</td>\n",
              "      <td>0</td>\n",
              "      <td>0</td>\n",
              "      <td>0</td>\n",
              "      <td>1</td>\n",
              "      <td>0</td>\n",
              "      <td>1</td>\n",
              "      <td>24</td>\n",
              "      <td>1</td>\n",
              "      <td>0</td>\n",
              "      <td>1</td>\n",
              "      <td>0</td>\n",
              "      <td>5</td>\n",
              "      <td>1</td>\n",
              "      <td>0</td>\n",
              "      <td>False</td>\n",
              "      <td>False</td>\n",
              "      <td>False</td>\n",
              "      <td>True</td>\n",
              "      <td>False</td>\n",
              "      <td>False</td>\n",
              "      <td>False</td>\n",
              "      <td>False</td>\n",
              "      <td>False</td>\n",
              "      <td>False</td>\n",
              "      <td>False</td>\n",
              "      <td>False</td>\n",
              "      <td>False</td>\n",
              "      <td>False</td>\n",
              "      <td>True</td>\n",
              "      <td>False</td>\n",
              "      <td>False</td>\n",
              "      <td>False</td>\n",
              "      <td>False</td>\n",
              "      <td>False</td>\n",
              "      <td>True</td>\n",
              "    </tr>\n",
              "    <tr>\n",
              "      <th>2</th>\n",
              "      <td>1</td>\n",
              "      <td>1</td>\n",
              "      <td>0</td>\n",
              "      <td>1</td>\n",
              "      <td>1</td>\n",
              "      <td>0</td>\n",
              "      <td>1</td>\n",
              "      <td>1</td>\n",
              "      <td>1</td>\n",
              "      <td>1</td>\n",
              "      <td>27</td>\n",
              "      <td>1</td>\n",
              "      <td>1</td>\n",
              "      <td>1</td>\n",
              "      <td>0</td>\n",
              "      <td>8</td>\n",
              "      <td>1</td>\n",
              "      <td>1</td>\n",
              "      <td>False</td>\n",
              "      <td>False</td>\n",
              "      <td>False</td>\n",
              "      <td>True</td>\n",
              "      <td>False</td>\n",
              "      <td>False</td>\n",
              "      <td>False</td>\n",
              "      <td>False</td>\n",
              "      <td>False</td>\n",
              "      <td>False</td>\n",
              "      <td>False</td>\n",
              "      <td>False</td>\n",
              "      <td>True</td>\n",
              "      <td>False</td>\n",
              "      <td>False</td>\n",
              "      <td>False</td>\n",
              "      <td>False</td>\n",
              "      <td>True</td>\n",
              "      <td>False</td>\n",
              "      <td>False</td>\n",
              "      <td>False</td>\n",
              "    </tr>\n",
              "    <tr>\n",
              "      <th>3</th>\n",
              "      <td>1</td>\n",
              "      <td>1</td>\n",
              "      <td>0</td>\n",
              "      <td>1</td>\n",
              "      <td>0</td>\n",
              "      <td>0</td>\n",
              "      <td>1</td>\n",
              "      <td>1</td>\n",
              "      <td>0</td>\n",
              "      <td>1</td>\n",
              "      <td>35</td>\n",
              "      <td>0</td>\n",
              "      <td>0</td>\n",
              "      <td>1</td>\n",
              "      <td>0</td>\n",
              "      <td>6</td>\n",
              "      <td>1</td>\n",
              "      <td>0</td>\n",
              "      <td>False</td>\n",
              "      <td>False</td>\n",
              "      <td>False</td>\n",
              "      <td>False</td>\n",
              "      <td>False</td>\n",
              "      <td>False</td>\n",
              "      <td>False</td>\n",
              "      <td>False</td>\n",
              "      <td>False</td>\n",
              "      <td>True</td>\n",
              "      <td>False</td>\n",
              "      <td>False</td>\n",
              "      <td>False</td>\n",
              "      <td>False</td>\n",
              "      <td>True</td>\n",
              "      <td>False</td>\n",
              "      <td>False</td>\n",
              "      <td>False</td>\n",
              "      <td>True</td>\n",
              "      <td>False</td>\n",
              "      <td>False</td>\n",
              "    </tr>\n",
              "    <tr>\n",
              "      <th>5</th>\n",
              "      <td>1</td>\n",
              "      <td>1</td>\n",
              "      <td>1</td>\n",
              "      <td>1</td>\n",
              "      <td>1</td>\n",
              "      <td>0</td>\n",
              "      <td>1</td>\n",
              "      <td>1</td>\n",
              "      <td>1</td>\n",
              "      <td>1</td>\n",
              "      <td>36</td>\n",
              "      <td>1</td>\n",
              "      <td>1</td>\n",
              "      <td>0</td>\n",
              "      <td>0</td>\n",
              "      <td>9</td>\n",
              "      <td>1</td>\n",
              "      <td>1</td>\n",
              "      <td>False</td>\n",
              "      <td>False</td>\n",
              "      <td>False</td>\n",
              "      <td>False</td>\n",
              "      <td>False</td>\n",
              "      <td>True</td>\n",
              "      <td>False</td>\n",
              "      <td>False</td>\n",
              "      <td>False</td>\n",
              "      <td>False</td>\n",
              "      <td>False</td>\n",
              "      <td>False</td>\n",
              "      <td>False</td>\n",
              "      <td>False</td>\n",
              "      <td>True</td>\n",
              "      <td>False</td>\n",
              "      <td>False</td>\n",
              "      <td>False</td>\n",
              "      <td>True</td>\n",
              "      <td>False</td>\n",
              "      <td>False</td>\n",
              "    </tr>\n",
              "  </tbody>\n",
              "</table>\n",
              "</div>"
            ],
            "text/plain": [
              "   A1_Score  A2_Score  A3_Score  A4_Score  A5_Score  A6_Score  A7_Score  \\\n",
              "0         1         1         1         1         0         0         1   \n",
              "1         1         1         0         1         0         0         0   \n",
              "2         1         1         0         1         1         0         1   \n",
              "3         1         1         0         1         0         0         1   \n",
              "5         1         1         1         1         1         0         1   \n",
              "\n",
              "   A8_Score  A9_Score  A10_Score  Age  Gender  Jundice  Austim  \\\n",
              "0         1         0          0   26       0        0       0   \n",
              "1         1         0          1   24       1        0       1   \n",
              "2         1         1          1   27       1        1       1   \n",
              "3         1         0          1   35       0        0       1   \n",
              "5         1         1          1   36       1        1       0   \n",
              "\n",
              "   Used_app_before  Result  Age_desc  Class/ASD  Ethnicity_Asian  \\\n",
              "0                0       6         1          0            False   \n",
              "1                0       5         1          0            False   \n",
              "2                0       8         1          1            False   \n",
              "3                0       6         1          0            False   \n",
              "5                0       9         1          1            False   \n",
              "\n",
              "   Ethnicity_Black  Ethnicity_Hispanic  Ethnicity_Latino  \\\n",
              "0            False               False             False   \n",
              "1            False               False              True   \n",
              "2            False               False              True   \n",
              "3            False               False             False   \n",
              "5            False               False             False   \n",
              "\n",
              "   Ethnicity_Middle Eastern   Ethnicity_Others  Ethnicity_Pasifika  \\\n",
              "0                      False             False               False   \n",
              "1                      False             False               False   \n",
              "2                      False             False               False   \n",
              "3                      False             False               False   \n",
              "5                      False              True               False   \n",
              "\n",
              "   Ethnicity_South Asian  Ethnicity_Turkish  Ethnicity_White-European  \\\n",
              "0                  False              False                      True   \n",
              "1                  False              False                     False   \n",
              "2                  False              False                     False   \n",
              "3                  False              False                      True   \n",
              "5                  False              False                     False   \n",
              "\n",
              "   Relation_Health care professional  Relation_Others  Relation_Parent  \\\n",
              "0                              False            False            False   \n",
              "1                              False            False            False   \n",
              "2                              False            False             True   \n",
              "3                              False            False            False   \n",
              "5                              False            False            False   \n",
              "\n",
              "   Relation_Relative  Relation_Self  Continent_Africa  Continent_Asia  \\\n",
              "0              False           True             False           False   \n",
              "1              False           True             False           False   \n",
              "2              False          False             False           False   \n",
              "3              False           True             False           False   \n",
              "5              False           True             False           False   \n",
              "\n",
              "   Continent_Europe  Continent_North America  Continent_Oceania  \\\n",
              "0             False                     True              False   \n",
              "1             False                    False              False   \n",
              "2              True                    False              False   \n",
              "3             False                     True              False   \n",
              "5             False                     True              False   \n",
              "\n",
              "   Continent_South America  \n",
              "0                    False  \n",
              "1                     True  \n",
              "2                    False  \n",
              "3                    False  \n",
              "5                    False  "
            ]
          },
          "execution_count": 30,
          "metadata": {},
          "output_type": "execute_result"
        }
      ],
      "source": [
        "## One-hot encode categorical values\n",
        "\n",
        "df['Gender'] = df['Gender'].map({'m': 1, 'f': 0})\n",
        "df['Jundice'] = df['Jundice'].map({'yes': 1, 'no': 0})\n",
        "df['Austim'] = df['Austim'].map({'yes': 1, 'no': 0})\n",
        "df['Used_app_before'] = df['Used_app_before'].map({'yes': 1, 'no': 0})\n",
        "df['Age_desc'] = df['Age_desc'].map({'18 and more': 1, 'Less than 18': 0})\n",
        "df['Class/ASD'] = df['Class/ASD'].map({'YES': 1, 'NO': 0})\n",
        "\n",
        "df = pd.get_dummies(df, drop_first=False)\n",
        "\n",
        "# Final dataset (preprocesssed)\n",
        "df.head()"
      ]
    },
    {
      "cell_type": "code",
      "execution_count": 31,
      "id": "da6ee8c9",
      "metadata": {
        "colab": {
          "base_uri": "https://localhost:8080/"
        },
        "id": "da6ee8c9",
        "outputId": "c6a9b92e-90ae-4d2d-cadd-6308710acbd4"
      },
      "outputs": [
        {
          "data": {
            "text/plain": [
              "(608, 39)"
            ]
          },
          "execution_count": 31,
          "metadata": {},
          "output_type": "execute_result"
        }
      ],
      "source": [
        "df.shape"
      ]
    },
    {
      "cell_type": "code",
      "execution_count": 32,
      "id": "c740d80a",
      "metadata": {
        "colab": {
          "base_uri": "https://localhost:8080/"
        },
        "id": "c740d80a",
        "outputId": "22a9a82d-905f-4950-85a6-20d28f7eade3"
      },
      "outputs": [
        {
          "name": "stdout",
          "output_type": "stream",
          "text": [
            "<class 'pandas.core.frame.DataFrame'>\n",
            "Index: 608 entries, 0 to 703\n",
            "Data columns (total 39 columns):\n",
            " #   Column                             Non-Null Count  Dtype\n",
            "---  ------                             --------------  -----\n",
            " 0   A1_Score                           608 non-null    int32\n",
            " 1   A2_Score                           608 non-null    int32\n",
            " 2   A3_Score                           608 non-null    int32\n",
            " 3   A4_Score                           608 non-null    int32\n",
            " 4   A5_Score                           608 non-null    int32\n",
            " 5   A6_Score                           608 non-null    int32\n",
            " 6   A7_Score                           608 non-null    int32\n",
            " 7   A8_Score                           608 non-null    int32\n",
            " 8   A9_Score                           608 non-null    int32\n",
            " 9   A10_Score                          608 non-null    int32\n",
            " 10  Age                                608 non-null    int32\n",
            " 11  Gender                             608 non-null    int64\n",
            " 12  Jundice                            608 non-null    int64\n",
            " 13  Austim                             608 non-null    int64\n",
            " 14  Used_app_before                    608 non-null    int64\n",
            " 15  Result                             608 non-null    int32\n",
            " 16  Age_desc                           608 non-null    int64\n",
            " 17  Class/ASD                          608 non-null    int64\n",
            " 18  Ethnicity_Asian                    608 non-null    bool \n",
            " 19  Ethnicity_Black                    608 non-null    bool \n",
            " 20  Ethnicity_Hispanic                 608 non-null    bool \n",
            " 21  Ethnicity_Latino                   608 non-null    bool \n",
            " 22  Ethnicity_Middle Eastern           608 non-null    bool \n",
            " 23  Ethnicity_Others                   608 non-null    bool \n",
            " 24  Ethnicity_Pasifika                 608 non-null    bool \n",
            " 25  Ethnicity_South Asian              608 non-null    bool \n",
            " 26  Ethnicity_Turkish                  608 non-null    bool \n",
            " 27  Ethnicity_White-European           608 non-null    bool \n",
            " 28  Relation_Health care professional  608 non-null    bool \n",
            " 29  Relation_Others                    608 non-null    bool \n",
            " 30  Relation_Parent                    608 non-null    bool \n",
            " 31  Relation_Relative                  608 non-null    bool \n",
            " 32  Relation_Self                      608 non-null    bool \n",
            " 33  Continent_Africa                   608 non-null    bool \n",
            " 34  Continent_Asia                     608 non-null    bool \n",
            " 35  Continent_Europe                   608 non-null    bool \n",
            " 36  Continent_North America            608 non-null    bool \n",
            " 37  Continent_Oceania                  608 non-null    bool \n",
            " 38  Continent_South America            608 non-null    bool \n",
            "dtypes: bool(21), int32(12), int64(6)\n",
            "memory usage: 74.2 KB\n"
          ]
        }
      ],
      "source": [
        "df.info()"
      ]
    },
    {
      "cell_type": "markdown",
      "id": "IgpOg3UCxdRq",
      "metadata": {
        "id": "IgpOg3UCxdRq"
      },
      "source": [
        "# Getting Input and Output Features"
      ]
    },
    {
      "cell_type": "code",
      "execution_count": 33,
      "id": "T7dAMfYKk-7T",
      "metadata": {
        "id": "T7dAMfYKk-7T"
      },
      "outputs": [],
      "source": [
        "x = df.drop(columns=['Class/ASD'])\n",
        "y = df['Class/ASD']"
      ]
    },
    {
      "cell_type": "code",
      "execution_count": 34,
      "id": "2oStp5NplLti",
      "metadata": {
        "id": "2oStp5NplLti"
      },
      "outputs": [],
      "source": [
        "X = pd.get_dummies(x)"
      ]
    },
    {
      "cell_type": "code",
      "execution_count": 35,
      "id": "24GuO3lulNQO",
      "metadata": {
        "colab": {
          "base_uri": "https://localhost:8080/"
        },
        "id": "24GuO3lulNQO",
        "outputId": "bfae9873-bdfe-4cfe-a087-64d34ddf6d59"
      },
      "outputs": [
        {
          "data": {
            "text/plain": [
              "array(['A1_Score', 'A2_Score', 'A3_Score', 'A4_Score', 'A5_Score',\n",
              "       'A6_Score', 'A7_Score', 'A8_Score', 'A9_Score', 'A10_Score', 'Age',\n",
              "       'Gender', 'Jundice', 'Austim', 'Used_app_before', 'Result',\n",
              "       'Age_desc', 'Ethnicity_Asian', 'Ethnicity_Black',\n",
              "       'Ethnicity_Hispanic', 'Ethnicity_Latino',\n",
              "       'Ethnicity_Middle Eastern ', 'Ethnicity_Others',\n",
              "       'Ethnicity_Pasifika', 'Ethnicity_South Asian', 'Ethnicity_Turkish',\n",
              "       'Ethnicity_White-European', 'Relation_Health care professional',\n",
              "       'Relation_Others', 'Relation_Parent', 'Relation_Relative',\n",
              "       'Relation_Self', 'Continent_Africa', 'Continent_Asia',\n",
              "       'Continent_Europe', 'Continent_North America', 'Continent_Oceania',\n",
              "       'Continent_South America'], dtype=object)"
            ]
          },
          "execution_count": 35,
          "metadata": {},
          "output_type": "execute_result"
        }
      ],
      "source": [
        "X.columns.values"
      ]
    },
    {
      "cell_type": "code",
      "execution_count": 36,
      "id": "k-lz9xHtlQbF",
      "metadata": {
        "id": "k-lz9xHtlQbF"
      },
      "outputs": [],
      "source": [
        "Y = pd.get_dummies(y)"
      ]
    },
    {
      "cell_type": "code",
      "execution_count": 37,
      "id": "Tvs1uQWolSoh",
      "metadata": {
        "id": "Tvs1uQWolSoh"
      },
      "outputs": [],
      "source": [
        "from sklearn import model_selection\n",
        "\n",
        "X_train, X_test, y_train, y_test = model_selection.train_test_split(X, Y, test_size = 0.2)"
      ]
    },
    {
      "cell_type": "code",
      "execution_count": 38,
      "id": "028eaf95",
      "metadata": {
        "colab": {
          "base_uri": "https://localhost:8080/"
        },
        "id": "028eaf95",
        "outputId": "46fb35b9-bcbb-45fa-cd50-d279ddb02c54"
      },
      "outputs": [
        {
          "name": "stdout",
          "output_type": "stream",
          "text": [
            "(486, 38) (486, 2)\n",
            "(122, 38) (122, 2)\n"
          ]
        }
      ],
      "source": [
        "print(X_train.shape, y_train.shape)\n",
        "print(X_test.shape, y_test.shape)"
      ]
    },
    {
      "cell_type": "markdown",
      "id": "E5U0Crb3wcAz",
      "metadata": {
        "id": "E5U0Crb3wcAz"
      },
      "source": [
        "# Model Building - Neural Network"
      ]
    },
    {
      "cell_type": "code",
      "execution_count": 39,
      "id": "3428210e",
      "metadata": {
        "colab": {
          "base_uri": "https://localhost:8080/"
        },
        "id": "3428210e",
        "outputId": "f04c4d0e-a833-48a5-a39a-4356de39c955"
      },
      "outputs": [
        {
          "name": "stderr",
          "output_type": "stream",
          "text": [
            "WARNING:absl:`lr` is deprecated in Keras optimizer, please use `learning_rate` or use the legacy optimizer, e.g.,tf.keras.optimizers.legacy.Adam.\n"
          ]
        },
        {
          "name": "stdout",
          "output_type": "stream",
          "text": [
            "Model: \"sequential\"\n",
            "_________________________________________________________________\n",
            " Layer (type)                Output Shape              Param #   \n",
            "=================================================================\n",
            " dense (Dense)               (None, 8)                 312       \n",
            "                                                                 \n",
            " dense_1 (Dense)             (None, 4)                 36        \n",
            "                                                                 \n",
            " dense_2 (Dense)             (None, 2)                 10        \n",
            "                                                                 \n",
            "=================================================================\n",
            "Total params: 358 (1.40 KB)\n",
            "Trainable params: 358 (1.40 KB)\n",
            "Non-trainable params: 0 (0.00 Byte)\n",
            "_________________________________________________________________\n"
          ]
        }
      ],
      "source": [
        "from keras.models import Sequential\n",
        "from keras.layers import Dense\n",
        "from keras.optimizers import Adam\n",
        "\n",
        "def create_model():\n",
        "    model = Sequential()\n",
        "    model.add(Dense(8, input_dim=38, kernel_initializer='normal', activation='relu'))\n",
        "    model.add(Dense(4, kernel_initializer='normal', activation='relu'))\n",
        "    model.add(Dense(2, activation='softmax'))\n",
        "\n",
        "    adam = Adam(lr=0.001)\n",
        "    model.compile(loss='categorical_crossentropy', optimizer=adam, metrics=['accuracy'])\n",
        "    return model\n",
        "\n",
        "model = create_model()\n",
        "model.summary()"
      ]
    },
    {
      "cell_type": "code",
      "execution_count": 44,
      "id": "pTmpkBLfhImF",
      "metadata": {
        "colab": {
          "base_uri": "https://localhost:8080/"
        },
        "id": "pTmpkBLfhImF",
        "outputId": "90f0cb96-d36d-496e-fd39-f36c2ab82878"
      },
      "outputs": [],
      "source": [
        "X_train.shape\n",
        "X_train = X_train.astype('float32')\n",
        "y_train = y_train.astype('float32')"
      ]
    },
    {
      "cell_type": "code",
      "execution_count": 45,
      "id": "k9Dl0C7zdsxO",
      "metadata": {
        "colab": {
          "base_uri": "https://localhost:8080/"
        },
        "id": "k9Dl0C7zdsxO",
        "outputId": "5aa6618b-36d0-4d4e-9882-470eb501177d"
      },
      "outputs": [
        {
          "name": "stdout",
          "output_type": "stream",
          "text": [
            "Epoch 1/50\n",
            "49/49 [==============================] - 1s 3ms/step - loss: 0.6149 - accuracy: 0.6955\n",
            "Epoch 2/50\n",
            "49/49 [==============================] - 0s 2ms/step - loss: 0.5602 - accuracy: 0.6955\n",
            "Epoch 3/50\n",
            "49/49 [==============================] - 0s 2ms/step - loss: 0.4991 - accuracy: 0.6955\n",
            "Epoch 4/50\n",
            "49/49 [==============================] - 0s 2ms/step - loss: 0.4519 - accuracy: 0.6955\n",
            "Epoch 5/50\n",
            "49/49 [==============================] - 0s 2ms/step - loss: 0.4096 - accuracy: 0.6955\n",
            "Epoch 6/50\n",
            "49/49 [==============================] - 0s 2ms/step - loss: 0.3895 - accuracy: 0.7016\n",
            "Epoch 7/50\n",
            "49/49 [==============================] - 0s 2ms/step - loss: 0.3558 - accuracy: 0.8889\n",
            "Epoch 8/50\n",
            "49/49 [==============================] - 0s 2ms/step - loss: 0.3404 - accuracy: 0.9012\n",
            "Epoch 9/50\n",
            "49/49 [==============================] - 0s 2ms/step - loss: 0.3164 - accuracy: 0.9115\n",
            "Epoch 10/50\n",
            "49/49 [==============================] - 0s 2ms/step - loss: 0.3044 - accuracy: 0.9198\n",
            "Epoch 11/50\n",
            "49/49 [==============================] - 0s 2ms/step - loss: 0.2884 - accuracy: 0.9198\n",
            "Epoch 12/50\n",
            "49/49 [==============================] - 0s 2ms/step - loss: 0.2806 - accuracy: 0.9321\n",
            "Epoch 13/50\n",
            "49/49 [==============================] - 0s 2ms/step - loss: 0.2662 - accuracy: 0.9383\n",
            "Epoch 14/50\n",
            "49/49 [==============================] - 0s 2ms/step - loss: 0.2525 - accuracy: 0.9444\n",
            "Epoch 15/50\n",
            "49/49 [==============================] - 0s 3ms/step - loss: 0.2517 - accuracy: 0.9403\n",
            "Epoch 16/50\n",
            "49/49 [==============================] - 0s 3ms/step - loss: 0.2357 - accuracy: 0.9383\n",
            "Epoch 17/50\n",
            "49/49 [==============================] - 0s 3ms/step - loss: 0.2321 - accuracy: 0.9444\n",
            "Epoch 18/50\n",
            "49/49 [==============================] - 0s 2ms/step - loss: 0.2235 - accuracy: 0.9465\n",
            "Epoch 19/50\n",
            "49/49 [==============================] - 0s 3ms/step - loss: 0.2122 - accuracy: 0.9527\n",
            "Epoch 20/50\n",
            "49/49 [==============================] - 0s 3ms/step - loss: 0.2084 - accuracy: 0.9527\n",
            "Epoch 21/50\n",
            "49/49 [==============================] - 0s 3ms/step - loss: 0.2027 - accuracy: 0.9568\n",
            "Epoch 22/50\n",
            "49/49 [==============================] - 0s 3ms/step - loss: 0.1953 - accuracy: 0.9506\n",
            "Epoch 23/50\n",
            "49/49 [==============================] - 0s 4ms/step - loss: 0.1910 - accuracy: 0.9568\n",
            "Epoch 24/50\n",
            "49/49 [==============================] - 0s 3ms/step - loss: 0.1838 - accuracy: 0.9568\n",
            "Epoch 25/50\n",
            "49/49 [==============================] - 0s 3ms/step - loss: 0.1768 - accuracy: 0.9630\n",
            "Epoch 26/50\n",
            "49/49 [==============================] - 0s 4ms/step - loss: 0.1723 - accuracy: 0.9630\n",
            "Epoch 27/50\n",
            "49/49 [==============================] - 0s 4ms/step - loss: 0.1651 - accuracy: 0.9650\n",
            "Epoch 28/50\n",
            "49/49 [==============================] - 0s 4ms/step - loss: 0.1600 - accuracy: 0.9671\n",
            "Epoch 29/50\n",
            "49/49 [==============================] - 0s 4ms/step - loss: 0.1574 - accuracy: 0.9630\n",
            "Epoch 30/50\n",
            "49/49 [==============================] - 0s 4ms/step - loss: 0.1558 - accuracy: 0.9609\n",
            "Epoch 31/50\n",
            "49/49 [==============================] - 0s 2ms/step - loss: 0.1488 - accuracy: 0.9671\n",
            "Epoch 32/50\n",
            "49/49 [==============================] - 0s 2ms/step - loss: 0.1421 - accuracy: 0.9753\n",
            "Epoch 33/50\n",
            "49/49 [==============================] - 0s 2ms/step - loss: 0.1453 - accuracy: 0.9650\n",
            "Epoch 34/50\n",
            "49/49 [==============================] - 0s 2ms/step - loss: 0.1390 - accuracy: 0.9733\n",
            "Epoch 35/50\n",
            "49/49 [==============================] - 0s 3ms/step - loss: 0.1359 - accuracy: 0.9712\n",
            "Epoch 36/50\n",
            "49/49 [==============================] - 0s 2ms/step - loss: 0.1273 - accuracy: 0.9753\n",
            "Epoch 37/50\n",
            "49/49 [==============================] - 0s 2ms/step - loss: 0.1226 - accuracy: 0.9753\n",
            "Epoch 38/50\n",
            "49/49 [==============================] - 0s 2ms/step - loss: 0.1230 - accuracy: 0.9815\n",
            "Epoch 39/50\n",
            "49/49 [==============================] - 0s 2ms/step - loss: 0.1188 - accuracy: 0.9712\n",
            "Epoch 40/50\n",
            "49/49 [==============================] - 0s 3ms/step - loss: 0.1164 - accuracy: 0.9774\n",
            "Epoch 41/50\n",
            "49/49 [==============================] - 0s 4ms/step - loss: 0.1108 - accuracy: 0.9815\n",
            "Epoch 42/50\n",
            "49/49 [==============================] - 0s 4ms/step - loss: 0.1118 - accuracy: 0.9774\n",
            "Epoch 43/50\n",
            "49/49 [==============================] - 0s 5ms/step - loss: 0.1082 - accuracy: 0.9774\n",
            "Epoch 44/50\n",
            "49/49 [==============================] - 0s 4ms/step - loss: 0.1048 - accuracy: 0.9815\n",
            "Epoch 45/50\n",
            "49/49 [==============================] - 0s 4ms/step - loss: 0.1013 - accuracy: 0.9794\n",
            "Epoch 46/50\n",
            "49/49 [==============================] - 0s 5ms/step - loss: 0.0967 - accuracy: 0.9856\n",
            "Epoch 47/50\n",
            "49/49 [==============================] - 0s 3ms/step - loss: 0.1037 - accuracy: 0.9794\n",
            "Epoch 48/50\n",
            "49/49 [==============================] - 0s 2ms/step - loss: 0.0965 - accuracy: 0.9794\n",
            "Epoch 49/50\n",
            "49/49 [==============================] - 0s 2ms/step - loss: 0.0920 - accuracy: 0.9856\n",
            "Epoch 50/50\n",
            "49/49 [==============================] - 0s 2ms/step - loss: 0.0928 - accuracy: 0.9835\n"
          ]
        },
        {
          "data": {
            "text/plain": [
              "<keras.src.callbacks.History at 0x27fcb39a450>"
            ]
          },
          "execution_count": 45,
          "metadata": {},
          "output_type": "execute_result"
        }
      ],
      "source": [
        "model.fit(X_train, y_train, epochs=50, batch_size=10, verbose = 1)"
      ]
    },
    {
      "cell_type": "markdown",
      "id": "Ooah2XVxwk3N",
      "metadata": {
        "id": "Ooah2XVxwk3N"
      },
      "source": [
        "# Evaluation"
      ]
    },
    {
      "cell_type": "code",
      "execution_count": 47,
      "id": "HsnIiLT1l2lB",
      "metadata": {
        "colab": {
          "base_uri": "https://localhost:8080/"
        },
        "id": "HsnIiLT1l2lB",
        "outputId": "1697cb81-0c25-4985-99d5-1fa9791aa9dc"
      },
      "outputs": [
        {
          "name": "stdout",
          "output_type": "stream",
          "text": [
            "4/4 [==============================] - 0s 2ms/step\n"
          ]
        },
        {
          "data": {
            "text/plain": [
              "array([0, 1, 0, 0, 0, 0, 1, 0, 0, 0, 1, 1, 1, 0, 0, 1, 0, 0, 0, 0, 1, 0,\n",
              "       0, 0, 1, 1, 0, 0, 1, 0, 0, 0, 1, 0, 0, 0, 1, 0, 1, 0, 0, 0, 0, 0,\n",
              "       0, 0, 0, 0, 0, 1, 0, 0, 0, 0, 1, 0, 1, 1, 1, 1, 0, 1, 0, 0, 1, 0,\n",
              "       0, 0, 0, 0, 1, 0, 1, 0, 0, 0, 0, 0, 0, 0, 0, 1, 1, 0, 0, 1, 1, 0,\n",
              "       1, 0, 0, 1, 0, 0, 0, 0, 0, 0, 0, 0, 0, 0, 0, 0, 0, 0, 0, 1, 0, 1,\n",
              "       0, 1, 0, 1, 0, 1, 0, 0, 0, 0, 0, 0], dtype=int64)"
            ]
          },
          "execution_count": 47,
          "metadata": {},
          "output_type": "execute_result"
        }
      ],
      "source": [
        "from sklearn.metrics import classification_report, accuracy_score\n",
        "X_test=X_test.astype('float32')\n",
        "Y_pred = np.argmax(model.predict(X_test),axis=1)\n",
        "Y_pred"
      ]
    },
    {
      "cell_type": "code",
      "execution_count": 53,
      "id": "FX70BeUSpEvD",
      "metadata": {
        "colab": {
          "base_uri": "https://localhost:8080/"
        },
        "id": "FX70BeUSpEvD",
        "outputId": "b91fce3b-f9fa-4b67-d16e-8d3105ce5891"
      },
      "outputs": [
        {
          "name": "stdout",
          "output_type": "stream",
          "text": [
            "Results for Neural Network Model\n",
            "0.9344262295081968\n",
            "              precision    recall  f1-score   support\n",
            "\n",
            "           0       0.97      0.94      0.96        90\n",
            "           1       0.85      0.91      0.88        32\n",
            "\n",
            "    accuracy                           0.93       122\n",
            "   macro avg       0.91      0.93      0.92       122\n",
            "weighted avg       0.94      0.93      0.94       122\n",
            "\n"
          ]
        }
      ],
      "source": [
        "y_test=y_test.astype('int')\n",
        "print('Results for Neural Network Model')\n",
        "print(accuracy_score(y_test[[1]], Y_pred))\n",
        "print(classification_report(y_test[[1]], Y_pred))"
      ]
    },
    {
      "cell_type": "markdown",
      "id": "vjNWpPwQwfay",
      "metadata": {
        "id": "vjNWpPwQwfay"
      },
      "source": [
        "# Confusion Matrix"
      ]
    },
    {
      "cell_type": "code",
      "execution_count": 50,
      "id": "ORjBooNMqRpb",
      "metadata": {
        "colab": {
          "base_uri": "https://localhost:8080/",
          "height": 581
        },
        "id": "ORjBooNMqRpb",
        "outputId": "4a15eeba-d947-40b3-cc75-e01b0dff5b18"
      },
      "outputs": [
        {
          "name": "stdout",
          "output_type": "stream",
          "text": [
            "4/4 [==============================] - 0s 3ms/step\n"
          ]
        },
        {
          "data": {
            "image/png": "[encoded data removed]",
            "text/plain": [
              "<Figure size 800x600 with 1 Axes>"
            ]
          },
          "metadata": {},
          "output_type": "display_data"
        }
      ],
      "source": [
        "Y_pred = np.argmax(model.predict(X_test),axis=1)\n",
        "\n",
        "cm = confusion_matrix(np.argmax(y_test.to_numpy(),axis=1), Y_pred)\n",
        "\n",
        "plt.figure(figsize=(8, 6))\n",
        "sns.heatmap(cm, annot=True, fmt='d', cmap='Blues', cbar=False,\n",
        "            xticklabels=['Predicted 0', 'Predicted 1'],\n",
        "            yticklabels=['Actual 0', 'Actual 1'])\n",
        "plt.xlabel('Predicted')\n",
        "plt.ylabel('Actual')\n",
        "plt.title('Confusion Matrix')\n",
        "plt.show()"
      ]
    },
    {
      "cell_type": "markdown",
      "id": "632217f2",
      "metadata": {},
      "source": [
        "# Decision Tree Classifier"
      ]
    },
    {
      "cell_type": "code",
      "execution_count": 54,
      "id": "1a55875e",
      "metadata": {},
      "outputs": [],
      "source": [
        "from sklearn.tree import DecisionTreeClassifier\n",
        "dt=DecisionTreeClassifier(random_state=0)"
      ]
    },
    {
      "cell_type": "code",
      "execution_count": 67,
      "id": "87ae168e",
      "metadata": {},
      "outputs": [
        {
          "data": {
            "text/html": [
              "<style>#sk-container-id-4 {color: black;}#sk-container-id-4 pre{padding: 0;}#sk-container-id-4 div.sk-toggleable {background-color: white;}#sk-container-id-4 label.sk-toggleable__label {cursor: pointer;display: block;width: 100%;margin-bottom: 0;padding: 0.3em;box-sizing: border-box;text-align: center;}#sk-container-id-4 label.sk-toggleable__label-arrow:before {content: \"▸\";float: left;margin-right: 0.25em;color: #696969;}#sk-container-id-4 label.sk-toggleable__label-arrow:hover:before {color: black;}#sk-container-id-4 div.sk-estimator:hover label.sk-toggleable__label-arrow:before {color: black;}#sk-container-id-4 div.sk-toggleable__content {max-height: 0;max-width: 0;overflow: hidden;text-align: left;background-color: #f0f8ff;}#sk-container-id-4 div.sk-toggleable__content pre {margin: 0.2em;color: black;border-radius: 0.25em;background-color: #f0f8ff;}#sk-container-id-4 input.sk-toggleable__control:checked~div.sk-toggleable__content {max-height: 200px;max-width: 100%;overflow: auto;}#sk-container-id-4 input.sk-toggleable__control:checked~label.sk-toggleable__label-arrow:before {content: \"▾\";}#sk-container-id-4 div.sk-estimator input.sk-toggleable__control:checked~label.sk-toggleable__label {background-color: #d4ebff;}#sk-container-id-4 div.sk-label input.sk-toggleable__control:checked~label.sk-toggleable__label {background-color: #d4ebff;}#sk-container-id-4 input.sk-hidden--visually {border: 0;clip: rect(1px 1px 1px 1px);clip: rect(1px, 1px, 1px, 1px);height: 1px;margin: -1px;overflow: hidden;padding: 0;position: absolute;width: 1px;}#sk-container-id-4 div.sk-estimator {font-family: monospace;background-color: #f0f8ff;border: 1px dotted black;border-radius: 0.25em;box-sizing: border-box;margin-bottom: 0.5em;}#sk-container-id-4 div.sk-estimator:hover {background-color: #d4ebff;}#sk-container-id-4 div.sk-parallel-item::after {content: \"\";width: 100%;border-bottom: 1px solid gray;flex-grow: 1;}#sk-container-id-4 div.sk-label:hover label.sk-toggleable__label {background-color: #d4ebff;}#sk-container-id-4 div.sk-serial::before {content: \"\";position: absolute;border-left: 1px solid gray;box-sizing: border-box;top: 0;bottom: 0;left: 50%;z-index: 0;}#sk-container-id-4 div.sk-serial {display: flex;flex-direction: column;align-items: center;background-color: white;padding-right: 0.2em;padding-left: 0.2em;position: relative;}#sk-container-id-4 div.sk-item {position: relative;z-index: 1;}#sk-container-id-4 div.sk-parallel {display: flex;align-items: stretch;justify-content: center;background-color: white;position: relative;}#sk-container-id-4 div.sk-item::before, #sk-container-id-4 div.sk-parallel-item::before {content: \"\";position: absolute;border-left: 1px solid gray;box-sizing: border-box;top: 0;bottom: 0;left: 50%;z-index: -1;}#sk-container-id-4 div.sk-parallel-item {display: flex;flex-direction: column;z-index: 1;position: relative;background-color: white;}#sk-container-id-4 div.sk-parallel-item:first-child::after {align-self: flex-end;width: 50%;}#sk-container-id-4 div.sk-parallel-item:last-child::after {align-self: flex-start;width: 50%;}#sk-container-id-4 div.sk-parallel-item:only-child::after {width: 0;}#sk-container-id-4 div.sk-dashed-wrapped {border: 1px dashed gray;margin: 0 0.4em 0.5em 0.4em;box-sizing: border-box;padding-bottom: 0.4em;background-color: white;}#sk-container-id-4 div.sk-label label {font-family: monospace;font-weight: bold;display: inline-block;line-height: 1.2em;}#sk-container-id-4 div.sk-label-container {text-align: center;}#sk-container-id-4 div.sk-container {/* jupyter's `normalize.less` sets `[hidden] { display: none; }` but bootstrap.min.css set `[hidden] { display: none !important; }` so we also need the `!important` here to be able to override the default hidden behavior on the sphinx rendered scikit-learn.org. See: https://github.com/scikit-learn/scikit-learn/issues/21755 */display: inline-block !important;position: relative;}#sk-container-id-4 div.sk-text-repr-fallback {display: none;}</style><div id=\"sk-container-id-4\" class=\"sk-top-container\"><div class=\"sk-text-repr-fallback\"><pre>DecisionTreeClassifier()</pre><b>In a Jupyter environment, please rerun this cell to show the HTML representation or trust the notebook. <br />On GitHub, the HTML representation is unable to render, please try loading this page with nbviewer.org.</b></div><div class=\"sk-container\" hidden><div class=\"sk-item\"><div class=\"sk-estimator sk-toggleable\"><input class=\"sk-toggleable__control sk-hidden--visually\" id=\"sk-estimator-id-4\" type=\"checkbox\" checked><label for=\"sk-estimator-id-4\" class=\"sk-toggleable__label sk-toggleable__label-arrow\">DecisionTreeClassifier</label><div class=\"sk-toggleable__content\"><pre>DecisionTreeClassifier()</pre></div></div></div></div></div>"
            ],
            "text/plain": [
              "DecisionTreeClassifier()"
            ]
          },
          "execution_count": 67,
          "metadata": {},
          "output_type": "execute_result"
        }
      ],
      "source": [
        "dt1=DecisionTreeClassifier()\n",
        "dt1.fit(X_train,y_train)"
      ]
    },
    {
      "cell_type": "code",
      "execution_count": 68,
      "id": "f5ba1dc1",
      "metadata": {},
      "outputs": [
        {
          "data": {
            "text/plain": [
              "array([1, 1, 0, 0, 0, 0, 1, 0, 0, 0, 1, 1, 1, 0, 0, 1, 0, 1, 0, 0, 1, 0,\n",
              "       0, 0, 0, 0, 0, 0, 1, 0, 0, 0, 1, 0, 0, 0, 1, 0, 1, 0, 0, 0, 0, 0,\n",
              "       0, 0, 0, 0, 0, 1, 0, 0, 0, 0, 1, 0, 1, 1, 1, 1, 0, 1, 0, 0, 1, 0,\n",
              "       0, 0, 0, 0, 1, 0, 1, 0, 1, 0, 0, 0, 0, 0, 0, 1, 1, 0, 0, 1, 1, 0,\n",
              "       1, 0, 0, 1, 0, 0, 0, 0, 0, 0, 0, 0, 0, 0, 0, 0, 0, 0, 0, 1, 0, 1,\n",
              "       0, 0, 0, 0, 0, 0, 0, 0, 0, 0, 0, 0], dtype=int64)"
            ]
          },
          "execution_count": 68,
          "metadata": {},
          "output_type": "execute_result"
        }
      ],
      "source": [
        "Y_pred1 = np.argmax(dt1.predict(X_test),axis=1)\n",
        "Y_pred1"
      ]
    },
    {
      "cell_type": "code",
      "execution_count": 69,
      "id": "4543f644",
      "metadata": {},
      "outputs": [
        {
          "name": "stdout",
          "output_type": "stream",
          "text": [
            "Results for Decision Tree Model\n",
            "1.0\n",
            "              precision    recall  f1-score   support\n",
            "\n",
            "           0       1.00      1.00      1.00        90\n",
            "           1       1.00      1.00      1.00        32\n",
            "\n",
            "    accuracy                           1.00       122\n",
            "   macro avg       1.00      1.00      1.00       122\n",
            "weighted avg       1.00      1.00      1.00       122\n",
            "\n"
          ]
        }
      ],
      "source": [
        "print('Results for Decision Tree Model')\n",
        "print(accuracy_score(y_test[[1]], Y_pred1))\n",
        "print(classification_report(y_test[[1]], Y_pred1))"
      ]
    },
    {
      "cell_type": "code",
      "execution_count": 72,
      "id": "64a1ddfe",
      "metadata": {},
      "outputs": [
        {
          "data": {
            "image/png": "[encoded data removed]",
            "text/plain": [
              "<Figure size 800x600 with 1 Axes>"
            ]
          },
          "metadata": {},
          "output_type": "display_data"
        }
      ],
      "source": [
        "Y_pred1 = np.argmax(dt1.predict(X_test),axis=1)\n",
        "\n",
        "cm1= confusion_matrix(np.argmax(y_test.to_numpy(),axis=1), Y_pred1)\n",
        "\n",
        "plt.figure(figsize=(8, 6))\n",
        "sns.heatmap(cm1, annot=True, fmt='d', cmap='Blues', cbar=False,\n",
        "            xticklabels=['Predicted 0', 'Predicted 1'],\n",
        "            yticklabels=['Actual 0', 'Actual 1'])\n",
        "plt.xlabel('Predicted')\n",
        "plt.ylabel('Actual')\n",
        "plt.title('Confusion Matrix for Decision Tree Classifier')\n",
        "plt.show()"
      ]
    },
    {
      "cell_type": "markdown",
      "id": "bb857220",
      "metadata": {},
      "source": [
        "# Random Forest Classifier"
      ]
    },
    {
      "cell_type": "code",
      "execution_count": 73,
      "id": "fd1d8ce9",
      "metadata": {},
      "outputs": [],
      "source": [
        "from sklearn.ensemble import RandomForestClassifier\n",
        "rf=RandomForestClassifier(random_state=0)\n",
        "rf1=RandomForestClassifier(n_estimators= 250,criterion= 'entropy', max_depth= 4, min_samples_leaf= 2, min_samples_split= 4,class_weight='balanced')\n",
        "rf1.fit(X_train,y_train)"
      ]
    },
    {
      "cell_type": "code",
      "execution_count": 75,
      "id": "a460e2f6",
      "metadata": {},
      "outputs": [
        {
          "data": {
            "text/html": [
              "<style>#sk-container-id-5 {color: black;}#sk-container-id-5 pre{padding: 0;}#sk-container-id-5 div.sk-toggleable {background-color: white;}#sk-container-id-5 label.sk-toggleable__label {cursor: pointer;display: block;width: 100%;margin-bottom: 0;padding: 0.3em;box-sizing: border-box;text-align: center;}#sk-container-id-5 label.sk-toggleable__label-arrow:before {content: \"▸\";float: left;margin-right: 0.25em;color: #696969;}#sk-container-id-5 label.sk-toggleable__label-arrow:hover:before {color: black;}#sk-container-id-5 div.sk-estimator:hover label.sk-toggleable__label-arrow:before {color: black;}#sk-container-id-5 div.sk-toggleable__content {max-height: 0;max-width: 0;overflow: hidden;text-align: left;background-color: #f0f8ff;}#sk-container-id-5 div.sk-toggleable__content pre {margin: 0.2em;color: black;border-radius: 0.25em;background-color: #f0f8ff;}#sk-container-id-5 input.sk-toggleable__control:checked~div.sk-toggleable__content {max-height: 200px;max-width: 100%;overflow: auto;}#sk-container-id-5 input.sk-toggleable__control:checked~label.sk-toggleable__label-arrow:before {content: \"▾\";}#sk-container-id-5 div.sk-estimator input.sk-toggleable__control:checked~label.sk-toggleable__label {background-color: #d4ebff;}#sk-container-id-5 div.sk-label input.sk-toggleable__control:checked~label.sk-toggleable__label {background-color: #d4ebff;}#sk-container-id-5 input.sk-hidden--visually {border: 0;clip: rect(1px 1px 1px 1px);clip: rect(1px, 1px, 1px, 1px);height: 1px;margin: -1px;overflow: hidden;padding: 0;position: absolute;width: 1px;}#sk-container-id-5 div.sk-estimator {font-family: monospace;background-color: #f0f8ff;border: 1px dotted black;border-radius: 0.25em;box-sizing: border-box;margin-bottom: 0.5em;}#sk-container-id-5 div.sk-estimator:hover {background-color: #d4ebff;}#sk-container-id-5 div.sk-parallel-item::after {content: \"\";width: 100%;border-bottom: 1px solid gray;flex-grow: 1;}#sk-container-id-5 div.sk-label:hover label.sk-toggleable__label {background-color: #d4ebff;}#sk-container-id-5 div.sk-serial::before {content: \"\";position: absolute;border-left: 1px solid gray;box-sizing: border-box;top: 0;bottom: 0;left: 50%;z-index: 0;}#sk-container-id-5 div.sk-serial {display: flex;flex-direction: column;align-items: center;background-color: white;padding-right: 0.2em;padding-left: 0.2em;position: relative;}#sk-container-id-5 div.sk-item {position: relative;z-index: 1;}#sk-container-id-5 div.sk-parallel {display: flex;align-items: stretch;justify-content: center;background-color: white;position: relative;}#sk-container-id-5 div.sk-item::before, #sk-container-id-5 div.sk-parallel-item::before {content: \"\";position: absolute;border-left: 1px solid gray;box-sizing: border-box;top: 0;bottom: 0;left: 50%;z-index: -1;}#sk-container-id-5 div.sk-parallel-item {display: flex;flex-direction: column;z-index: 1;position: relative;background-color: white;}#sk-container-id-5 div.sk-parallel-item:first-child::after {align-self: flex-end;width: 50%;}#sk-container-id-5 div.sk-parallel-item:last-child::after {align-self: flex-start;width: 50%;}#sk-container-id-5 div.sk-parallel-item:only-child::after {width: 0;}#sk-container-id-5 div.sk-dashed-wrapped {border: 1px dashed gray;margin: 0 0.4em 0.5em 0.4em;box-sizing: border-box;padding-bottom: 0.4em;background-color: white;}#sk-container-id-5 div.sk-label label {font-family: monospace;font-weight: bold;display: inline-block;line-height: 1.2em;}#sk-container-id-5 div.sk-label-container {text-align: center;}#sk-container-id-5 div.sk-container {/* jupyter's `normalize.less` sets `[hidden] { display: none; }` but bootstrap.min.css set `[hidden] { display: none !important; }` so we also need the `!important` here to be able to override the default hidden behavior on the sphinx rendered scikit-learn.org. See: https://github.com/scikit-learn/scikit-learn/issues/21755 */display: inline-block !important;position: relative;}#sk-container-id-5 div.sk-text-repr-fallback {display: none;}</style><div id=\"sk-container-id-5\" class=\"sk-top-container\"><div class=\"sk-text-repr-fallback\"><pre>RandomForestClassifier(class_weight=&#x27;balanced&#x27;, criterion=&#x27;entropy&#x27;,\n",
              "                       max_depth=4, min_samples_leaf=2, min_samples_split=4,\n",
              "                       n_estimators=250)</pre><b>In a Jupyter environment, please rerun this cell to show the HTML representation or trust the notebook. <br />On GitHub, the HTML representation is unable to render, please try loading this page with nbviewer.org.</b></div><div class=\"sk-container\" hidden><div class=\"sk-item\"><div class=\"sk-estimator sk-toggleable\"><input class=\"sk-toggleable__control sk-hidden--visually\" id=\"sk-estimator-id-5\" type=\"checkbox\" checked><label for=\"sk-estimator-id-5\" class=\"sk-toggleable__label sk-toggleable__label-arrow\">RandomForestClassifier</label><div class=\"sk-toggleable__content\"><pre>RandomForestClassifier(class_weight=&#x27;balanced&#x27;, criterion=&#x27;entropy&#x27;,\n",
              "                       max_depth=4, min_samples_leaf=2, min_samples_split=4,\n",
              "                       n_estimators=250)</pre></div></div></div></div></div>"
            ],
            "text/plain": [
              "RandomForestClassifier(class_weight='balanced', criterion='entropy',\n",
              "                       max_depth=4, min_samples_leaf=2, min_samples_split=4,\n",
              "                       n_estimators=250)"
            ]
          },
          "execution_count": 75,
          "metadata": {},
          "output_type": "execute_result"
        }
      ],
      "source": [
        "rf1=RandomForestClassifier(n_estimators= 250,criterion= 'entropy', max_depth= 4, min_samples_leaf= 2, min_samples_split= 4,class_weight='balanced')\n",
        "rf1.fit(X_train,y_train)"
      ]
    },
    {
      "cell_type": "code",
      "execution_count": 76,
      "id": "42b8a9ab",
      "metadata": {},
      "outputs": [
        {
          "data": {
            "text/plain": [
              "array([1, 1, 0, 0, 0, 0, 1, 0, 0, 0, 1, 1, 1, 0, 0, 1, 0, 1, 0, 0, 1, 0,\n",
              "       0, 0, 0, 0, 0, 0, 1, 0, 0, 0, 1, 0, 0, 0, 1, 0, 1, 0, 0, 0, 0, 0,\n",
              "       0, 0, 0, 0, 0, 1, 0, 0, 0, 0, 1, 0, 1, 1, 1, 1, 0, 1, 0, 0, 1, 0,\n",
              "       0, 0, 0, 0, 1, 0, 1, 0, 1, 0, 0, 0, 0, 0, 0, 1, 1, 0, 0, 1, 1, 0,\n",
              "       1, 0, 0, 1, 0, 0, 0, 0, 0, 0, 0, 0, 0, 0, 0, 0, 0, 0, 0, 1, 0, 1,\n",
              "       0, 0, 0, 0, 0, 0, 0, 0, 0, 0, 0, 0], dtype=int64)"
            ]
          },
          "execution_count": 76,
          "metadata": {},
          "output_type": "execute_result"
        }
      ],
      "source": [
        "Y_pred2 = np.argmax(rf1.predict(X_test),axis=1)\n",
        "Y_pred2"
      ]
    },
    {
      "cell_type": "code",
      "execution_count": 77,
      "id": "09f0ba70",
      "metadata": {},
      "outputs": [
        {
          "name": "stdout",
          "output_type": "stream",
          "text": [
            "Results for Random Forest Model\n",
            "1.0\n",
            "              precision    recall  f1-score   support\n",
            "\n",
            "           0       1.00      1.00      1.00        90\n",
            "           1       1.00      1.00      1.00        32\n",
            "\n",
            "    accuracy                           1.00       122\n",
            "   macro avg       1.00      1.00      1.00       122\n",
            "weighted avg       1.00      1.00      1.00       122\n",
            "\n"
          ]
        }
      ],
      "source": [
        "print('Results for Random Forest Model')\n",
        "print(accuracy_score(y_test[[1]], Y_pred2))\n",
        "print(classification_report(y_test[[1]], Y_pred2))"
      ]
    },
    {
      "cell_type": "code",
      "execution_count": 78,
      "id": "42bf9128",
      "metadata": {},
      "outputs": [
        {
          "data": {
            "image/png": "[encoded data removed]",
            "text/plain": [
              "<Figure size 800x600 with 1 Axes>"
            ]
          },
          "metadata": {},
          "output_type": "display_data"
        }
      ],
      "source": [
        "Y_pred2 = np.argmax(rf1.predict(X_test),axis=1)\n",
        "\n",
        "cm2= confusion_matrix(np.argmax(y_test.to_numpy(),axis=1), Y_pred2)\n",
        "\n",
        "plt.figure(figsize=(8, 6))\n",
        "sns.heatmap(cm1, annot=True, fmt='d', cmap='Blues', cbar=False,\n",
        "            xticklabels=['Predicted 0', 'Predicted 1'],\n",
        "            yticklabels=['Actual 0', 'Actual 1'])\n",
        "plt.xlabel('Predicted')\n",
        "plt.ylabel('Actual')\n",
        "plt.title('Confusion Matrix for Random Forest Classifier')\n",
        "plt.show()"
      ]
    },
    {
      "cell_type": "markdown",
      "id": "c33b76f9",
      "metadata": {},
      "source": [
        "# Support Vector Classifier"
      ]
    },
    {
      "cell_type": "code",
      "execution_count": 79,
      "id": "8888c062",
      "metadata": {},
      "outputs": [],
      "source": [
        "from sklearn.svm import SVC\n",
        "sc=SVC()\n",
        "sc1=SVC(C= 0.001, gamma= 100, kernel='poly')\n",
        "sc1.fit(X_train,y_train[1])"
      ]
    },
    {
      "cell_type": "code",
      "execution_count": 82,
      "id": "96cab1cc",
      "metadata": {},
      "outputs": [
        {
          "data": {
            "text/html": [
              "<style>#sk-container-id-6 {color: black;}#sk-container-id-6 pre{padding: 0;}#sk-container-id-6 div.sk-toggleable {background-color: white;}#sk-container-id-6 label.sk-toggleable__label {cursor: pointer;display: block;width: 100%;margin-bottom: 0;padding: 0.3em;box-sizing: border-box;text-align: center;}#sk-container-id-6 label.sk-toggleable__label-arrow:before {content: \"▸\";float: left;margin-right: 0.25em;color: #696969;}#sk-container-id-6 label.sk-toggleable__label-arrow:hover:before {color: black;}#sk-container-id-6 div.sk-estimator:hover label.sk-toggleable__label-arrow:before {color: black;}#sk-container-id-6 div.sk-toggleable__content {max-height: 0;max-width: 0;overflow: hidden;text-align: left;background-color: #f0f8ff;}#sk-container-id-6 div.sk-toggleable__content pre {margin: 0.2em;color: black;border-radius: 0.25em;background-color: #f0f8ff;}#sk-container-id-6 input.sk-toggleable__control:checked~div.sk-toggleable__content {max-height: 200px;max-width: 100%;overflow: auto;}#sk-container-id-6 input.sk-toggleable__control:checked~label.sk-toggleable__label-arrow:before {content: \"▾\";}#sk-container-id-6 div.sk-estimator input.sk-toggleable__control:checked~label.sk-toggleable__label {background-color: #d4ebff;}#sk-container-id-6 div.sk-label input.sk-toggleable__control:checked~label.sk-toggleable__label {background-color: #d4ebff;}#sk-container-id-6 input.sk-hidden--visually {border: 0;clip: rect(1px 1px 1px 1px);clip: rect(1px, 1px, 1px, 1px);height: 1px;margin: -1px;overflow: hidden;padding: 0;position: absolute;width: 1px;}#sk-container-id-6 div.sk-estimator {font-family: monospace;background-color: #f0f8ff;border: 1px dotted black;border-radius: 0.25em;box-sizing: border-box;margin-bottom: 0.5em;}#sk-container-id-6 div.sk-estimator:hover {background-color: #d4ebff;}#sk-container-id-6 div.sk-parallel-item::after {content: \"\";width: 100%;border-bottom: 1px solid gray;flex-grow: 1;}#sk-container-id-6 div.sk-label:hover label.sk-toggleable__label {background-color: #d4ebff;}#sk-container-id-6 div.sk-serial::before {content: \"\";position: absolute;border-left: 1px solid gray;box-sizing: border-box;top: 0;bottom: 0;left: 50%;z-index: 0;}#sk-container-id-6 div.sk-serial {display: flex;flex-direction: column;align-items: center;background-color: white;padding-right: 0.2em;padding-left: 0.2em;position: relative;}#sk-container-id-6 div.sk-item {position: relative;z-index: 1;}#sk-container-id-6 div.sk-parallel {display: flex;align-items: stretch;justify-content: center;background-color: white;position: relative;}#sk-container-id-6 div.sk-item::before, #sk-container-id-6 div.sk-parallel-item::before {content: \"\";position: absolute;border-left: 1px solid gray;box-sizing: border-box;top: 0;bottom: 0;left: 50%;z-index: -1;}#sk-container-id-6 div.sk-parallel-item {display: flex;flex-direction: column;z-index: 1;position: relative;background-color: white;}#sk-container-id-6 div.sk-parallel-item:first-child::after {align-self: flex-end;width: 50%;}#sk-container-id-6 div.sk-parallel-item:last-child::after {align-self: flex-start;width: 50%;}#sk-container-id-6 div.sk-parallel-item:only-child::after {width: 0;}#sk-container-id-6 div.sk-dashed-wrapped {border: 1px dashed gray;margin: 0 0.4em 0.5em 0.4em;box-sizing: border-box;padding-bottom: 0.4em;background-color: white;}#sk-container-id-6 div.sk-label label {font-family: monospace;font-weight: bold;display: inline-block;line-height: 1.2em;}#sk-container-id-6 div.sk-label-container {text-align: center;}#sk-container-id-6 div.sk-container {/* jupyter's `normalize.less` sets `[hidden] { display: none; }` but bootstrap.min.css set `[hidden] { display: none !important; }` so we also need the `!important` here to be able to override the default hidden behavior on the sphinx rendered scikit-learn.org. See: https://github.com/scikit-learn/scikit-learn/issues/21755 */display: inline-block !important;position: relative;}#sk-container-id-6 div.sk-text-repr-fallback {display: none;}</style><div id=\"sk-container-id-6\" class=\"sk-top-container\"><div class=\"sk-text-repr-fallback\"><pre>SVC(C=0.001, gamma=100, kernel=&#x27;poly&#x27;)</pre><b>In a Jupyter environment, please rerun this cell to show the HTML representation or trust the notebook. <br />On GitHub, the HTML representation is unable to render, please try loading this page with nbviewer.org.</b></div><div class=\"sk-container\" hidden><div class=\"sk-item\"><div class=\"sk-estimator sk-toggleable\"><input class=\"sk-toggleable__control sk-hidden--visually\" id=\"sk-estimator-id-6\" type=\"checkbox\" checked><label for=\"sk-estimator-id-6\" class=\"sk-toggleable__label sk-toggleable__label-arrow\">SVC</label><div class=\"sk-toggleable__content\"><pre>SVC(C=0.001, gamma=100, kernel=&#x27;poly&#x27;)</pre></div></div></div></div></div>"
            ],
            "text/plain": [
              "SVC(C=0.001, gamma=100, kernel='poly')"
            ]
          },
          "execution_count": 82,
          "metadata": {},
          "output_type": "execute_result"
        }
      ],
      "source": [
        "sc1=SVC(C= 0.001, gamma= 100, kernel='poly')\n",
        "sc1.fit(X_train,y_train[1])"
      ]
    },
    {
      "cell_type": "code",
      "execution_count": 84,
      "id": "3e1394e7",
      "metadata": {},
      "outputs": [
        {
          "data": {
            "text/plain": [
              "array([1., 1., 0., 0., 0., 0., 1., 0., 0., 0., 1., 1., 1., 0., 0., 1., 0.,\n",
              "       1., 0., 0., 1., 0., 0., 0., 0., 0., 0., 0., 1., 0., 0., 0., 1., 0.,\n",
              "       0., 0., 1., 0., 1., 0., 0., 0., 0., 0., 0., 0., 0., 0., 0., 1., 0.,\n",
              "       0., 0., 0., 1., 0., 1., 1., 1., 1., 0., 1., 0., 0., 1., 0., 0., 0.,\n",
              "       0., 0., 1., 0., 1., 0., 1., 0., 0., 0., 0., 0., 0., 1., 1., 0., 0.,\n",
              "       1., 1., 0., 1., 0., 0., 1., 0., 0., 0., 0., 0., 0., 0., 0., 0., 0.,\n",
              "       0., 0., 0., 0., 0., 1., 0., 1., 0., 0., 0., 0., 0., 0., 0., 0., 0.,\n",
              "       0., 0., 0.], dtype=float32)"
            ]
          },
          "execution_count": 84,
          "metadata": {},
          "output_type": "execute_result"
        }
      ],
      "source": [
        "Y_pred3 = sc1.predict(X_test)\n",
        "Y_pred3"
      ]
    },
    {
      "cell_type": "code",
      "execution_count": 85,
      "id": "83f7d05a",
      "metadata": {},
      "outputs": [
        {
          "name": "stdout",
          "output_type": "stream",
          "text": [
            "Results for Support Vector Model\n",
            "1.0\n",
            "              precision    recall  f1-score   support\n",
            "\n",
            "           0       1.00      1.00      1.00        90\n",
            "           1       1.00      1.00      1.00        32\n",
            "\n",
            "    accuracy                           1.00       122\n",
            "   macro avg       1.00      1.00      1.00       122\n",
            "weighted avg       1.00      1.00      1.00       122\n",
            "\n"
          ]
        }
      ],
      "source": [
        "print('Results for Support Vector Model')\n",
        "print(accuracy_score(y_test[[1]], Y_pred3))\n",
        "print(classification_report(y_test[[1]], Y_pred3))"
      ]
    },
    {
      "cell_type": "code",
      "execution_count": 90,
      "id": "c19c20c5",
      "metadata": {},
      "outputs": [
        {
          "data": {
            "image/png": "[encoded data removed]",
            "text/plain": [
              "<Figure size 800x600 with 1 Axes>"
            ]
          },
          "metadata": {},
          "output_type": "display_data"
        }
      ],
      "source": [
        "Y_pred3 = sc1.predict(X_test)\n",
        "\n",
        "cm3= confusion_matrix(y_test[1], Y_pred2)\n",
        "\n",
        "plt.figure(figsize=(8, 6))\n",
        "sns.heatmap(cm1, annot=True, fmt='d', cmap='Blues', cbar=False,\n",
        "            xticklabels=['Predicted 0', 'Predicted 1'],\n",
        "            yticklabels=['Actual 0', 'Actual 1'])\n",
        "plt.xlabel('Predicted')\n",
        "plt.ylabel('Actual')\n",
        "plt.title('Confusion Matrix for Random Forest Classifier')\n",
        "plt.show()"
      ]
    },
    {
      "cell_type": "markdown",
      "id": "3c11f561",
      "metadata": {
        "id": "3c11f561"
      },
      "source": [
        "The effectiveness of the classifier is significantly influenced by the inclusion of demographic details and responses to the 10-question questionnaire. Integrating this classifier into an Autistic Spectrum Disorder (ASD) Screening app has the potential to offer substantial advantages to individuals, families, and society at large by delivering timely support."
      ]
    }
  ],
  "metadata": {
    "colab": {
      "provenance": []
    },
    "kernelspec": {
      "display_name": "Python 3 (ipykernel)",
      "language": "python",
      "name": "python3"
    },
    "language_info": {
      "codemirror_mode": {
        "name": "ipython",
        "version": 3
      },
      "file_extension": ".py",
      "mimetype": "text/x-python",
      "name": "python",
      "nbconvert_exporter": "python",
      "pygments_lexer": "ipython3",
      "version": "3.11.5"
    }
  },
  "nbformat": 4,
  "nbformat_minor": 5
}
